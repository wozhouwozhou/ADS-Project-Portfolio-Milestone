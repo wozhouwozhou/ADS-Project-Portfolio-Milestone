{
  "nbformat": 4,
  "nbformat_minor": 0,
  "metadata": {
    "kernelspec": {
      "display_name": "Python 3",
      "language": "python",
      "name": "python3"
    },
    "language_info": {
      "codemirror_mode": {
        "name": "ipython",
        "version": 3
      },
      "file_extension": ".py",
      "mimetype": "text/x-python",
      "name": "python",
      "nbconvert_exporter": "python",
      "pygments_lexer": "ipython3",
      "version": "3.8.5"
    },
    "colab": {
      "name": "code.ipynb（副本）",
      "provenance": [],
      "collapsed_sections": [
        "IrP3uw8McFkv",
        "Woy-_G2qJBlU"
      ]
    }
  },
  "cells": [
    {
      "cell_type": "markdown",
      "metadata": {
        "id": "ReK9BR3ocVkU"
      },
      "source": [
        "# **Import data from google drive**"
      ]
    },
    {
      "cell_type": "code",
      "metadata": {
        "id": "ovcH3JCCLVkB"
      },
      "source": [
        "# Code to read csv file into Colaboratory:\n",
        "!pip install -U -q PyDrive\n",
        "from pydrive.auth import GoogleAuth\n",
        "from pydrive.drive import GoogleDrive\n",
        "from google.colab import auth\n",
        "from oauth2client.client import GoogleCredentials\n",
        "# Authenticate and create the PyDrive client.\n",
        "auth.authenticate_user()\n",
        "gauth = GoogleAuth()\n",
        "gauth.credentials = GoogleCredentials.get_application_default()\n",
        "drive = GoogleDrive(gauth)"
      ],
      "execution_count": null,
      "outputs": []
    },
    {
      "cell_type": "code",
      "metadata": {
        "id": "BldhCz39MD9J"
      },
      "source": [
        "id = \"1bfKxTD7CU9q_lvEHpOCqHJhiU1pZ6aHV\"\n",
        "file = drive.CreateFile({'id':id}) \n",
        "file.GetContentFile('hotel_bookings.csv') "
      ],
      "execution_count": null,
      "outputs": []
    },
    {
      "cell_type": "code",
      "metadata": {
        "id": "MYl5rsNDJBlO"
      },
      "source": [
        "import pandas as pd\n",
        "import numpy as np"
      ],
      "execution_count": null,
      "outputs": []
    },
    {
      "cell_type": "code",
      "metadata": {
        "colab": {
          "base_uri": "https://localhost:8080/",
          "height": 309
        },
        "id": "FG8kjD1QQQJr",
        "outputId": "47945789-cab0-458e-9962-ebb25c49dfd5"
      },
      "source": [
        "hb=pd.read_csv(\"hotel_bookings.csv\")\n",
        "hb.head()"
      ],
      "execution_count": null,
      "outputs": [
        {
          "output_type": "execute_result",
          "data": {
            "text/html": [
              "<div>\n",
              "<style scoped>\n",
              "    .dataframe tbody tr th:only-of-type {\n",
              "        vertical-align: middle;\n",
              "    }\n",
              "\n",
              "    .dataframe tbody tr th {\n",
              "        vertical-align: top;\n",
              "    }\n",
              "\n",
              "    .dataframe thead th {\n",
              "        text-align: right;\n",
              "    }\n",
              "</style>\n",
              "<table border=\"1\" class=\"dataframe\">\n",
              "  <thead>\n",
              "    <tr style=\"text-align: right;\">\n",
              "      <th></th>\n",
              "      <th>hotel</th>\n",
              "      <th>is_canceled</th>\n",
              "      <th>lead_time</th>\n",
              "      <th>arrival_date_year</th>\n",
              "      <th>arrival_date_month</th>\n",
              "      <th>arrival_date_week_number</th>\n",
              "      <th>arrival_date_day_of_month</th>\n",
              "      <th>stays_in_weekend_nights</th>\n",
              "      <th>stays_in_week_nights</th>\n",
              "      <th>adults</th>\n",
              "      <th>children</th>\n",
              "      <th>babies</th>\n",
              "      <th>meal</th>\n",
              "      <th>country</th>\n",
              "      <th>market_segment</th>\n",
              "      <th>distribution_channel</th>\n",
              "      <th>is_repeated_guest</th>\n",
              "      <th>previous_cancellations</th>\n",
              "      <th>previous_bookings_not_canceled</th>\n",
              "      <th>reserved_room_type</th>\n",
              "      <th>assigned_room_type</th>\n",
              "      <th>booking_changes</th>\n",
              "      <th>deposit_type</th>\n",
              "      <th>agent</th>\n",
              "      <th>company</th>\n",
              "      <th>days_in_waiting_list</th>\n",
              "      <th>customer_type</th>\n",
              "      <th>adr</th>\n",
              "      <th>required_car_parking_spaces</th>\n",
              "      <th>total_of_special_requests</th>\n",
              "      <th>reservation_status</th>\n",
              "      <th>reservation_status_date</th>\n",
              "    </tr>\n",
              "  </thead>\n",
              "  <tbody>\n",
              "    <tr>\n",
              "      <th>0</th>\n",
              "      <td>Resort Hotel</td>\n",
              "      <td>0</td>\n",
              "      <td>342</td>\n",
              "      <td>2015</td>\n",
              "      <td>July</td>\n",
              "      <td>27</td>\n",
              "      <td>1</td>\n",
              "      <td>0</td>\n",
              "      <td>0</td>\n",
              "      <td>2</td>\n",
              "      <td>0.0</td>\n",
              "      <td>0</td>\n",
              "      <td>BB</td>\n",
              "      <td>PRT</td>\n",
              "      <td>Direct</td>\n",
              "      <td>Direct</td>\n",
              "      <td>0</td>\n",
              "      <td>0</td>\n",
              "      <td>0</td>\n",
              "      <td>C</td>\n",
              "      <td>C</td>\n",
              "      <td>3</td>\n",
              "      <td>No Deposit</td>\n",
              "      <td>NaN</td>\n",
              "      <td>NaN</td>\n",
              "      <td>0</td>\n",
              "      <td>Transient</td>\n",
              "      <td>0.0</td>\n",
              "      <td>0</td>\n",
              "      <td>0</td>\n",
              "      <td>Check-Out</td>\n",
              "      <td>2015-07-01</td>\n",
              "    </tr>\n",
              "    <tr>\n",
              "      <th>1</th>\n",
              "      <td>Resort Hotel</td>\n",
              "      <td>0</td>\n",
              "      <td>737</td>\n",
              "      <td>2015</td>\n",
              "      <td>July</td>\n",
              "      <td>27</td>\n",
              "      <td>1</td>\n",
              "      <td>0</td>\n",
              "      <td>0</td>\n",
              "      <td>2</td>\n",
              "      <td>0.0</td>\n",
              "      <td>0</td>\n",
              "      <td>BB</td>\n",
              "      <td>PRT</td>\n",
              "      <td>Direct</td>\n",
              "      <td>Direct</td>\n",
              "      <td>0</td>\n",
              "      <td>0</td>\n",
              "      <td>0</td>\n",
              "      <td>C</td>\n",
              "      <td>C</td>\n",
              "      <td>4</td>\n",
              "      <td>No Deposit</td>\n",
              "      <td>NaN</td>\n",
              "      <td>NaN</td>\n",
              "      <td>0</td>\n",
              "      <td>Transient</td>\n",
              "      <td>0.0</td>\n",
              "      <td>0</td>\n",
              "      <td>0</td>\n",
              "      <td>Check-Out</td>\n",
              "      <td>2015-07-01</td>\n",
              "    </tr>\n",
              "    <tr>\n",
              "      <th>2</th>\n",
              "      <td>Resort Hotel</td>\n",
              "      <td>0</td>\n",
              "      <td>7</td>\n",
              "      <td>2015</td>\n",
              "      <td>July</td>\n",
              "      <td>27</td>\n",
              "      <td>1</td>\n",
              "      <td>0</td>\n",
              "      <td>1</td>\n",
              "      <td>1</td>\n",
              "      <td>0.0</td>\n",
              "      <td>0</td>\n",
              "      <td>BB</td>\n",
              "      <td>GBR</td>\n",
              "      <td>Direct</td>\n",
              "      <td>Direct</td>\n",
              "      <td>0</td>\n",
              "      <td>0</td>\n",
              "      <td>0</td>\n",
              "      <td>A</td>\n",
              "      <td>C</td>\n",
              "      <td>0</td>\n",
              "      <td>No Deposit</td>\n",
              "      <td>NaN</td>\n",
              "      <td>NaN</td>\n",
              "      <td>0</td>\n",
              "      <td>Transient</td>\n",
              "      <td>75.0</td>\n",
              "      <td>0</td>\n",
              "      <td>0</td>\n",
              "      <td>Check-Out</td>\n",
              "      <td>2015-07-02</td>\n",
              "    </tr>\n",
              "    <tr>\n",
              "      <th>3</th>\n",
              "      <td>Resort Hotel</td>\n",
              "      <td>0</td>\n",
              "      <td>13</td>\n",
              "      <td>2015</td>\n",
              "      <td>July</td>\n",
              "      <td>27</td>\n",
              "      <td>1</td>\n",
              "      <td>0</td>\n",
              "      <td>1</td>\n",
              "      <td>1</td>\n",
              "      <td>0.0</td>\n",
              "      <td>0</td>\n",
              "      <td>BB</td>\n",
              "      <td>GBR</td>\n",
              "      <td>Corporate</td>\n",
              "      <td>Corporate</td>\n",
              "      <td>0</td>\n",
              "      <td>0</td>\n",
              "      <td>0</td>\n",
              "      <td>A</td>\n",
              "      <td>A</td>\n",
              "      <td>0</td>\n",
              "      <td>No Deposit</td>\n",
              "      <td>304.0</td>\n",
              "      <td>NaN</td>\n",
              "      <td>0</td>\n",
              "      <td>Transient</td>\n",
              "      <td>75.0</td>\n",
              "      <td>0</td>\n",
              "      <td>0</td>\n",
              "      <td>Check-Out</td>\n",
              "      <td>2015-07-02</td>\n",
              "    </tr>\n",
              "    <tr>\n",
              "      <th>4</th>\n",
              "      <td>Resort Hotel</td>\n",
              "      <td>0</td>\n",
              "      <td>14</td>\n",
              "      <td>2015</td>\n",
              "      <td>July</td>\n",
              "      <td>27</td>\n",
              "      <td>1</td>\n",
              "      <td>0</td>\n",
              "      <td>2</td>\n",
              "      <td>2</td>\n",
              "      <td>0.0</td>\n",
              "      <td>0</td>\n",
              "      <td>BB</td>\n",
              "      <td>GBR</td>\n",
              "      <td>Online TA</td>\n",
              "      <td>TA/TO</td>\n",
              "      <td>0</td>\n",
              "      <td>0</td>\n",
              "      <td>0</td>\n",
              "      <td>A</td>\n",
              "      <td>A</td>\n",
              "      <td>0</td>\n",
              "      <td>No Deposit</td>\n",
              "      <td>240.0</td>\n",
              "      <td>NaN</td>\n",
              "      <td>0</td>\n",
              "      <td>Transient</td>\n",
              "      <td>98.0</td>\n",
              "      <td>0</td>\n",
              "      <td>1</td>\n",
              "      <td>Check-Out</td>\n",
              "      <td>2015-07-03</td>\n",
              "    </tr>\n",
              "  </tbody>\n",
              "</table>\n",
              "</div>"
            ],
            "text/plain": [
              "          hotel  is_canceled  ...  reservation_status  reservation_status_date\n",
              "0  Resort Hotel            0  ...           Check-Out               2015-07-01\n",
              "1  Resort Hotel            0  ...           Check-Out               2015-07-01\n",
              "2  Resort Hotel            0  ...           Check-Out               2015-07-02\n",
              "3  Resort Hotel            0  ...           Check-Out               2015-07-02\n",
              "4  Resort Hotel            0  ...           Check-Out               2015-07-03\n",
              "\n",
              "[5 rows x 32 columns]"
            ]
          },
          "metadata": {
            "tags": []
          },
          "execution_count": 4
        }
      ]
    },
    {
      "cell_type": "markdown",
      "metadata": {
        "id": "IrP3uw8McFkv"
      },
      "source": [
        "# **Data Preprocessing**"
      ]
    },
    {
      "cell_type": "markdown",
      "metadata": {
        "id": "6Mq7QtHec6lC"
      },
      "source": [
        "Data Preprocessing"
      ]
    },
    {
      "cell_type": "code",
      "metadata": {
        "colab": {
          "base_uri": "https://localhost:8080/"
        },
        "id": "rkdY6O9ldAM5",
        "outputId": "91743848-a9fe-41f5-87f4-873009b69895"
      },
      "source": [
        "hb.isnull().sum().sort_values(ascending=False)/hb.shape[0]"
      ],
      "execution_count": null,
      "outputs": [
        {
          "output_type": "execute_result",
          "data": {
            "text/plain": [
              "company                           0.943069\n",
              "agent                             0.136862\n",
              "country                           0.004087\n",
              "children                          0.000034\n",
              "lead_time                         0.000000\n",
              "arrival_date_year                 0.000000\n",
              "arrival_date_month                0.000000\n",
              "arrival_date_week_number          0.000000\n",
              "is_canceled                       0.000000\n",
              "market_segment                    0.000000\n",
              "arrival_date_day_of_month         0.000000\n",
              "stays_in_weekend_nights           0.000000\n",
              "stays_in_week_nights              0.000000\n",
              "adults                            0.000000\n",
              "babies                            0.000000\n",
              "meal                              0.000000\n",
              "reservation_status_date           0.000000\n",
              "distribution_channel              0.000000\n",
              "reservation_status                0.000000\n",
              "is_repeated_guest                 0.000000\n",
              "previous_cancellations            0.000000\n",
              "previous_bookings_not_canceled    0.000000\n",
              "reserved_room_type                0.000000\n",
              "assigned_room_type                0.000000\n",
              "booking_changes                   0.000000\n",
              "deposit_type                      0.000000\n",
              "days_in_waiting_list              0.000000\n",
              "customer_type                     0.000000\n",
              "adr                               0.000000\n",
              "required_car_parking_spaces       0.000000\n",
              "total_of_special_requests         0.000000\n",
              "hotel                             0.000000\n",
              "dtype: float64"
            ]
          },
          "metadata": {
            "tags": []
          },
          "execution_count": 5
        }
      ]
    },
    {
      "cell_type": "code",
      "metadata": {
        "id": "pZGmvAltdAKq"
      },
      "source": [
        "hb_new = hb.copy()"
      ],
      "execution_count": null,
      "outputs": []
    },
    {
      "cell_type": "code",
      "metadata": {
        "id": "LcVhmXOKdAIH"
      },
      "source": [
        "hb_new.drop(\"company\",axis=1,inplace=True)"
      ],
      "execution_count": null,
      "outputs": []
    },
    {
      "cell_type": "code",
      "metadata": {
        "id": "pTe56AuGdAFu"
      },
      "source": [
        "hb_new.agent.fillna(0, inplace=True)"
      ],
      "execution_count": null,
      "outputs": []
    },
    {
      "cell_type": "code",
      "metadata": {
        "id": "TTvYqIOodADj"
      },
      "source": [
        "hb_new.country.fillna(hb_new.country.mode()[0],inplace=True)"
      ],
      "execution_count": null,
      "outputs": []
    },
    {
      "cell_type": "code",
      "metadata": {
        "id": "jJgZ9vuvdABY"
      },
      "source": [
        "hb_new.children.fillna(hb_new.children.median(), inplace=True)"
      ],
      "execution_count": null,
      "outputs": []
    },
    {
      "cell_type": "code",
      "metadata": {
        "colab": {
          "base_uri": "https://localhost:8080/"
        },
        "id": "qg5dL8qPc__G",
        "outputId": "9edf9200-b719-4073-9f6b-a988b63fd50d"
      },
      "source": [
        "hb_new.isnull().sum().sort_values(ascending=False)"
      ],
      "execution_count": null,
      "outputs": [
        {
          "output_type": "execute_result",
          "data": {
            "text/plain": [
              "reservation_status_date           0\n",
              "market_segment                    0\n",
              "is_canceled                       0\n",
              "lead_time                         0\n",
              "arrival_date_year                 0\n",
              "arrival_date_month                0\n",
              "arrival_date_week_number          0\n",
              "arrival_date_day_of_month         0\n",
              "stays_in_weekend_nights           0\n",
              "stays_in_week_nights              0\n",
              "adults                            0\n",
              "children                          0\n",
              "babies                            0\n",
              "meal                              0\n",
              "country                           0\n",
              "distribution_channel              0\n",
              "reservation_status                0\n",
              "is_repeated_guest                 0\n",
              "previous_cancellations            0\n",
              "previous_bookings_not_canceled    0\n",
              "reserved_room_type                0\n",
              "assigned_room_type                0\n",
              "booking_changes                   0\n",
              "deposit_type                      0\n",
              "agent                             0\n",
              "days_in_waiting_list              0\n",
              "customer_type                     0\n",
              "adr                               0\n",
              "required_car_parking_spaces       0\n",
              "total_of_special_requests         0\n",
              "hotel                             0\n",
              "dtype: int64"
            ]
          },
          "metadata": {
            "tags": []
          },
          "execution_count": 11
        }
      ]
    },
    {
      "cell_type": "code",
      "metadata": {
        "colab": {
          "base_uri": "https://localhost:8080/"
        },
        "id": "W0cJj8TYc_8z",
        "outputId": "9e61520d-7c66-4172-ec0d-f14acc2be794"
      },
      "source": [
        "hb_new.info()"
      ],
      "execution_count": null,
      "outputs": [
        {
          "output_type": "stream",
          "text": [
            "<class 'pandas.core.frame.DataFrame'>\n",
            "RangeIndex: 119390 entries, 0 to 119389\n",
            "Data columns (total 31 columns):\n",
            " #   Column                          Non-Null Count   Dtype  \n",
            "---  ------                          --------------   -----  \n",
            " 0   hotel                           119390 non-null  object \n",
            " 1   is_canceled                     119390 non-null  int64  \n",
            " 2   lead_time                       119390 non-null  int64  \n",
            " 3   arrival_date_year               119390 non-null  int64  \n",
            " 4   arrival_date_month              119390 non-null  object \n",
            " 5   arrival_date_week_number        119390 non-null  int64  \n",
            " 6   arrival_date_day_of_month       119390 non-null  int64  \n",
            " 7   stays_in_weekend_nights         119390 non-null  int64  \n",
            " 8   stays_in_week_nights            119390 non-null  int64  \n",
            " 9   adults                          119390 non-null  int64  \n",
            " 10  children                        119390 non-null  float64\n",
            " 11  babies                          119390 non-null  int64  \n",
            " 12  meal                            119390 non-null  object \n",
            " 13  country                         119390 non-null  object \n",
            " 14  market_segment                  119390 non-null  object \n",
            " 15  distribution_channel            119390 non-null  object \n",
            " 16  is_repeated_guest               119390 non-null  int64  \n",
            " 17  previous_cancellations          119390 non-null  int64  \n",
            " 18  previous_bookings_not_canceled  119390 non-null  int64  \n",
            " 19  reserved_room_type              119390 non-null  object \n",
            " 20  assigned_room_type              119390 non-null  object \n",
            " 21  booking_changes                 119390 non-null  int64  \n",
            " 22  deposit_type                    119390 non-null  object \n",
            " 23  agent                           119390 non-null  float64\n",
            " 24  days_in_waiting_list            119390 non-null  int64  \n",
            " 25  customer_type                   119390 non-null  object \n",
            " 26  adr                             119390 non-null  float64\n",
            " 27  required_car_parking_spaces     119390 non-null  int64  \n",
            " 28  total_of_special_requests       119390 non-null  int64  \n",
            " 29  reservation_status              119390 non-null  object \n",
            " 30  reservation_status_date         119390 non-null  object \n",
            "dtypes: float64(3), int64(16), object(12)\n",
            "memory usage: 28.2+ MB\n"
          ],
          "name": "stdout"
        }
      ]
    },
    {
      "cell_type": "code",
      "metadata": {
        "id": "zTiPowYqc_6v"
      },
      "source": [
        "hb_new.children = hb_new.children.astype(int)\n",
        "hb_new.agent = hb_new.agent.astype(int)"
      ],
      "execution_count": null,
      "outputs": []
    },
    {
      "cell_type": "code",
      "metadata": {
        "colab": {
          "base_uri": "https://localhost:8080/"
        },
        "id": "weIpI9_5c_4T",
        "outputId": "8aaa3324-4ded-4a2b-b77d-82226b843138"
      },
      "source": [
        "hb_new.info()"
      ],
      "execution_count": null,
      "outputs": [
        {
          "output_type": "stream",
          "text": [
            "<class 'pandas.core.frame.DataFrame'>\n",
            "RangeIndex: 119390 entries, 0 to 119389\n",
            "Data columns (total 31 columns):\n",
            " #   Column                          Non-Null Count   Dtype  \n",
            "---  ------                          --------------   -----  \n",
            " 0   hotel                           119390 non-null  object \n",
            " 1   is_canceled                     119390 non-null  int64  \n",
            " 2   lead_time                       119390 non-null  int64  \n",
            " 3   arrival_date_year               119390 non-null  int64  \n",
            " 4   arrival_date_month              119390 non-null  object \n",
            " 5   arrival_date_week_number        119390 non-null  int64  \n",
            " 6   arrival_date_day_of_month       119390 non-null  int64  \n",
            " 7   stays_in_weekend_nights         119390 non-null  int64  \n",
            " 8   stays_in_week_nights            119390 non-null  int64  \n",
            " 9   adults                          119390 non-null  int64  \n",
            " 10  children                        119390 non-null  int64  \n",
            " 11  babies                          119390 non-null  int64  \n",
            " 12  meal                            119390 non-null  object \n",
            " 13  country                         119390 non-null  object \n",
            " 14  market_segment                  119390 non-null  object \n",
            " 15  distribution_channel            119390 non-null  object \n",
            " 16  is_repeated_guest               119390 non-null  int64  \n",
            " 17  previous_cancellations          119390 non-null  int64  \n",
            " 18  previous_bookings_not_canceled  119390 non-null  int64  \n",
            " 19  reserved_room_type              119390 non-null  object \n",
            " 20  assigned_room_type              119390 non-null  object \n",
            " 21  booking_changes                 119390 non-null  int64  \n",
            " 22  deposit_type                    119390 non-null  object \n",
            " 23  agent                           119390 non-null  int64  \n",
            " 24  days_in_waiting_list            119390 non-null  int64  \n",
            " 25  customer_type                   119390 non-null  object \n",
            " 26  adr                             119390 non-null  float64\n",
            " 27  required_car_parking_spaces     119390 non-null  int64  \n",
            " 28  total_of_special_requests       119390 non-null  int64  \n",
            " 29  reservation_status              119390 non-null  object \n",
            " 30  reservation_status_date         119390 non-null  object \n",
            "dtypes: float64(1), int64(18), object(12)\n",
            "memory usage: 28.2+ MB\n"
          ],
          "name": "stdout"
        }
      ]
    },
    {
      "cell_type": "code",
      "metadata": {
        "colab": {
          "base_uri": "https://localhost:8080/"
        },
        "id": "qcSc63yRc_12",
        "outputId": "4d01e871-2faf-4b62-c6e0-86d56c509af7"
      },
      "source": [
        "hb_new.describe().T"
      ],
      "execution_count": null,
      "outputs": [
        {
          "output_type": "execute_result",
          "data": {
            "text/html": [
              "<div>\n",
              "<style scoped>\n",
              "    .dataframe tbody tr th:only-of-type {\n",
              "        vertical-align: middle;\n",
              "    }\n",
              "\n",
              "    .dataframe tbody tr th {\n",
              "        vertical-align: top;\n",
              "    }\n",
              "\n",
              "    .dataframe thead th {\n",
              "        text-align: right;\n",
              "    }\n",
              "</style>\n",
              "<table border=\"1\" class=\"dataframe\">\n",
              "  <thead>\n",
              "    <tr style=\"text-align: right;\">\n",
              "      <th></th>\n",
              "      <th>count</th>\n",
              "      <th>mean</th>\n",
              "      <th>std</th>\n",
              "      <th>min</th>\n",
              "      <th>25%</th>\n",
              "      <th>50%</th>\n",
              "      <th>75%</th>\n",
              "      <th>max</th>\n",
              "    </tr>\n",
              "  </thead>\n",
              "  <tbody>\n",
              "    <tr>\n",
              "      <th>is_canceled</th>\n",
              "      <td>119390.0</td>\n",
              "      <td>0.370416</td>\n",
              "      <td>0.482918</td>\n",
              "      <td>0.00</td>\n",
              "      <td>0.00</td>\n",
              "      <td>0.000</td>\n",
              "      <td>1.0</td>\n",
              "      <td>1.0</td>\n",
              "    </tr>\n",
              "    <tr>\n",
              "      <th>lead_time</th>\n",
              "      <td>119390.0</td>\n",
              "      <td>104.011416</td>\n",
              "      <td>106.863097</td>\n",
              "      <td>0.00</td>\n",
              "      <td>18.00</td>\n",
              "      <td>69.000</td>\n",
              "      <td>160.0</td>\n",
              "      <td>737.0</td>\n",
              "    </tr>\n",
              "    <tr>\n",
              "      <th>arrival_date_year</th>\n",
              "      <td>119390.0</td>\n",
              "      <td>2016.156554</td>\n",
              "      <td>0.707476</td>\n",
              "      <td>2015.00</td>\n",
              "      <td>2016.00</td>\n",
              "      <td>2016.000</td>\n",
              "      <td>2017.0</td>\n",
              "      <td>2017.0</td>\n",
              "    </tr>\n",
              "    <tr>\n",
              "      <th>arrival_date_week_number</th>\n",
              "      <td>119390.0</td>\n",
              "      <td>27.165173</td>\n",
              "      <td>13.605138</td>\n",
              "      <td>1.00</td>\n",
              "      <td>16.00</td>\n",
              "      <td>28.000</td>\n",
              "      <td>38.0</td>\n",
              "      <td>53.0</td>\n",
              "    </tr>\n",
              "    <tr>\n",
              "      <th>arrival_date_day_of_month</th>\n",
              "      <td>119390.0</td>\n",
              "      <td>15.798241</td>\n",
              "      <td>8.780829</td>\n",
              "      <td>1.00</td>\n",
              "      <td>8.00</td>\n",
              "      <td>16.000</td>\n",
              "      <td>23.0</td>\n",
              "      <td>31.0</td>\n",
              "    </tr>\n",
              "    <tr>\n",
              "      <th>stays_in_weekend_nights</th>\n",
              "      <td>119390.0</td>\n",
              "      <td>0.927599</td>\n",
              "      <td>0.998613</td>\n",
              "      <td>0.00</td>\n",
              "      <td>0.00</td>\n",
              "      <td>1.000</td>\n",
              "      <td>2.0</td>\n",
              "      <td>19.0</td>\n",
              "    </tr>\n",
              "    <tr>\n",
              "      <th>stays_in_week_nights</th>\n",
              "      <td>119390.0</td>\n",
              "      <td>2.500302</td>\n",
              "      <td>1.908286</td>\n",
              "      <td>0.00</td>\n",
              "      <td>1.00</td>\n",
              "      <td>2.000</td>\n",
              "      <td>3.0</td>\n",
              "      <td>50.0</td>\n",
              "    </tr>\n",
              "    <tr>\n",
              "      <th>adults</th>\n",
              "      <td>119390.0</td>\n",
              "      <td>1.856403</td>\n",
              "      <td>0.579261</td>\n",
              "      <td>0.00</td>\n",
              "      <td>2.00</td>\n",
              "      <td>2.000</td>\n",
              "      <td>2.0</td>\n",
              "      <td>55.0</td>\n",
              "    </tr>\n",
              "    <tr>\n",
              "      <th>children</th>\n",
              "      <td>119390.0</td>\n",
              "      <td>0.103886</td>\n",
              "      <td>0.398555</td>\n",
              "      <td>0.00</td>\n",
              "      <td>0.00</td>\n",
              "      <td>0.000</td>\n",
              "      <td>0.0</td>\n",
              "      <td>10.0</td>\n",
              "    </tr>\n",
              "    <tr>\n",
              "      <th>babies</th>\n",
              "      <td>119390.0</td>\n",
              "      <td>0.007949</td>\n",
              "      <td>0.097436</td>\n",
              "      <td>0.00</td>\n",
              "      <td>0.00</td>\n",
              "      <td>0.000</td>\n",
              "      <td>0.0</td>\n",
              "      <td>10.0</td>\n",
              "    </tr>\n",
              "    <tr>\n",
              "      <th>is_repeated_guest</th>\n",
              "      <td>119390.0</td>\n",
              "      <td>0.031912</td>\n",
              "      <td>0.175767</td>\n",
              "      <td>0.00</td>\n",
              "      <td>0.00</td>\n",
              "      <td>0.000</td>\n",
              "      <td>0.0</td>\n",
              "      <td>1.0</td>\n",
              "    </tr>\n",
              "    <tr>\n",
              "      <th>previous_cancellations</th>\n",
              "      <td>119390.0</td>\n",
              "      <td>0.087118</td>\n",
              "      <td>0.844336</td>\n",
              "      <td>0.00</td>\n",
              "      <td>0.00</td>\n",
              "      <td>0.000</td>\n",
              "      <td>0.0</td>\n",
              "      <td>26.0</td>\n",
              "    </tr>\n",
              "    <tr>\n",
              "      <th>previous_bookings_not_canceled</th>\n",
              "      <td>119390.0</td>\n",
              "      <td>0.137097</td>\n",
              "      <td>1.497437</td>\n",
              "      <td>0.00</td>\n",
              "      <td>0.00</td>\n",
              "      <td>0.000</td>\n",
              "      <td>0.0</td>\n",
              "      <td>72.0</td>\n",
              "    </tr>\n",
              "    <tr>\n",
              "      <th>booking_changes</th>\n",
              "      <td>119390.0</td>\n",
              "      <td>0.221124</td>\n",
              "      <td>0.652306</td>\n",
              "      <td>0.00</td>\n",
              "      <td>0.00</td>\n",
              "      <td>0.000</td>\n",
              "      <td>0.0</td>\n",
              "      <td>21.0</td>\n",
              "    </tr>\n",
              "    <tr>\n",
              "      <th>agent</th>\n",
              "      <td>119390.0</td>\n",
              "      <td>74.828319</td>\n",
              "      <td>107.141953</td>\n",
              "      <td>0.00</td>\n",
              "      <td>7.00</td>\n",
              "      <td>9.000</td>\n",
              "      <td>152.0</td>\n",
              "      <td>535.0</td>\n",
              "    </tr>\n",
              "    <tr>\n",
              "      <th>days_in_waiting_list</th>\n",
              "      <td>119390.0</td>\n",
              "      <td>2.321149</td>\n",
              "      <td>17.594721</td>\n",
              "      <td>0.00</td>\n",
              "      <td>0.00</td>\n",
              "      <td>0.000</td>\n",
              "      <td>0.0</td>\n",
              "      <td>391.0</td>\n",
              "    </tr>\n",
              "    <tr>\n",
              "      <th>adr</th>\n",
              "      <td>119390.0</td>\n",
              "      <td>101.831122</td>\n",
              "      <td>50.535790</td>\n",
              "      <td>-6.38</td>\n",
              "      <td>69.29</td>\n",
              "      <td>94.575</td>\n",
              "      <td>126.0</td>\n",
              "      <td>5400.0</td>\n",
              "    </tr>\n",
              "    <tr>\n",
              "      <th>required_car_parking_spaces</th>\n",
              "      <td>119390.0</td>\n",
              "      <td>0.062518</td>\n",
              "      <td>0.245291</td>\n",
              "      <td>0.00</td>\n",
              "      <td>0.00</td>\n",
              "      <td>0.000</td>\n",
              "      <td>0.0</td>\n",
              "      <td>8.0</td>\n",
              "    </tr>\n",
              "    <tr>\n",
              "      <th>total_of_special_requests</th>\n",
              "      <td>119390.0</td>\n",
              "      <td>0.571363</td>\n",
              "      <td>0.792798</td>\n",
              "      <td>0.00</td>\n",
              "      <td>0.00</td>\n",
              "      <td>0.000</td>\n",
              "      <td>1.0</td>\n",
              "      <td>5.0</td>\n",
              "    </tr>\n",
              "  </tbody>\n",
              "</table>\n",
              "</div>"
            ],
            "text/plain": [
              "                                   count         mean  ...     75%     max\n",
              "is_canceled                     119390.0     0.370416  ...     1.0     1.0\n",
              "lead_time                       119390.0   104.011416  ...   160.0   737.0\n",
              "arrival_date_year               119390.0  2016.156554  ...  2017.0  2017.0\n",
              "arrival_date_week_number        119390.0    27.165173  ...    38.0    53.0\n",
              "arrival_date_day_of_month       119390.0    15.798241  ...    23.0    31.0\n",
              "stays_in_weekend_nights         119390.0     0.927599  ...     2.0    19.0\n",
              "stays_in_week_nights            119390.0     2.500302  ...     3.0    50.0\n",
              "adults                          119390.0     1.856403  ...     2.0    55.0\n",
              "children                        119390.0     0.103886  ...     0.0    10.0\n",
              "babies                          119390.0     0.007949  ...     0.0    10.0\n",
              "is_repeated_guest               119390.0     0.031912  ...     0.0     1.0\n",
              "previous_cancellations          119390.0     0.087118  ...     0.0    26.0\n",
              "previous_bookings_not_canceled  119390.0     0.137097  ...     0.0    72.0\n",
              "booking_changes                 119390.0     0.221124  ...     0.0    21.0\n",
              "agent                           119390.0    74.828319  ...   152.0   535.0\n",
              "days_in_waiting_list            119390.0     2.321149  ...     0.0   391.0\n",
              "adr                             119390.0   101.831122  ...   126.0  5400.0\n",
              "required_car_parking_spaces     119390.0     0.062518  ...     0.0     8.0\n",
              "total_of_special_requests       119390.0     0.571363  ...     1.0     5.0\n",
              "\n",
              "[19 rows x 8 columns]"
            ]
          },
          "metadata": {
            "tags": []
          },
          "execution_count": 15
        }
      ]
    },
    {
      "cell_type": "code",
      "metadata": {
        "id": "5ERFqcaXc_zo"
      },
      "source": [
        "guests_0 = list(hb_new[\"adults\"] + hb_new[\"children\"] + hb_new[\"babies\"] == 0)\n",
        "hb_new.drop(hb_new.index[guests_0],inplace=True)"
      ],
      "execution_count": null,
      "outputs": []
    },
    {
      "cell_type": "code",
      "metadata": {
        "colab": {
          "base_uri": "https://localhost:8080/"
        },
        "id": "RPiSoY5uc_xf",
        "outputId": "1d511931-f994-4300-90d4-d7362bf94e21"
      },
      "source": [
        "hb_new[hb_new['adr']<0]"
      ],
      "execution_count": null,
      "outputs": [
        {
          "output_type": "execute_result",
          "data": {
            "text/html": [
              "<div>\n",
              "<style scoped>\n",
              "    .dataframe tbody tr th:only-of-type {\n",
              "        vertical-align: middle;\n",
              "    }\n",
              "\n",
              "    .dataframe tbody tr th {\n",
              "        vertical-align: top;\n",
              "    }\n",
              "\n",
              "    .dataframe thead th {\n",
              "        text-align: right;\n",
              "    }\n",
              "</style>\n",
              "<table border=\"1\" class=\"dataframe\">\n",
              "  <thead>\n",
              "    <tr style=\"text-align: right;\">\n",
              "      <th></th>\n",
              "      <th>hotel</th>\n",
              "      <th>is_canceled</th>\n",
              "      <th>lead_time</th>\n",
              "      <th>arrival_date_year</th>\n",
              "      <th>arrival_date_month</th>\n",
              "      <th>arrival_date_week_number</th>\n",
              "      <th>arrival_date_day_of_month</th>\n",
              "      <th>stays_in_weekend_nights</th>\n",
              "      <th>stays_in_week_nights</th>\n",
              "      <th>adults</th>\n",
              "      <th>children</th>\n",
              "      <th>babies</th>\n",
              "      <th>meal</th>\n",
              "      <th>country</th>\n",
              "      <th>market_segment</th>\n",
              "      <th>distribution_channel</th>\n",
              "      <th>is_repeated_guest</th>\n",
              "      <th>previous_cancellations</th>\n",
              "      <th>previous_bookings_not_canceled</th>\n",
              "      <th>reserved_room_type</th>\n",
              "      <th>assigned_room_type</th>\n",
              "      <th>booking_changes</th>\n",
              "      <th>deposit_type</th>\n",
              "      <th>agent</th>\n",
              "      <th>days_in_waiting_list</th>\n",
              "      <th>customer_type</th>\n",
              "      <th>adr</th>\n",
              "      <th>required_car_parking_spaces</th>\n",
              "      <th>total_of_special_requests</th>\n",
              "      <th>reservation_status</th>\n",
              "      <th>reservation_status_date</th>\n",
              "    </tr>\n",
              "  </thead>\n",
              "  <tbody>\n",
              "    <tr>\n",
              "      <th>14969</th>\n",
              "      <td>Resort Hotel</td>\n",
              "      <td>0</td>\n",
              "      <td>195</td>\n",
              "      <td>2017</td>\n",
              "      <td>March</td>\n",
              "      <td>10</td>\n",
              "      <td>5</td>\n",
              "      <td>4</td>\n",
              "      <td>6</td>\n",
              "      <td>2</td>\n",
              "      <td>0</td>\n",
              "      <td>0</td>\n",
              "      <td>BB</td>\n",
              "      <td>GBR</td>\n",
              "      <td>Groups</td>\n",
              "      <td>Direct</td>\n",
              "      <td>1</td>\n",
              "      <td>0</td>\n",
              "      <td>2</td>\n",
              "      <td>A</td>\n",
              "      <td>H</td>\n",
              "      <td>2</td>\n",
              "      <td>No Deposit</td>\n",
              "      <td>273</td>\n",
              "      <td>0</td>\n",
              "      <td>Transient-Party</td>\n",
              "      <td>-6.38</td>\n",
              "      <td>0</td>\n",
              "      <td>0</td>\n",
              "      <td>Check-Out</td>\n",
              "      <td>2017-03-15</td>\n",
              "    </tr>\n",
              "  </tbody>\n",
              "</table>\n",
              "</div>"
            ],
            "text/plain": [
              "              hotel  is_canceled  ...  reservation_status  reservation_status_date\n",
              "14969  Resort Hotel            0  ...           Check-Out               2017-03-15\n",
              "\n",
              "[1 rows x 31 columns]"
            ]
          },
          "metadata": {
            "tags": []
          },
          "execution_count": 17
        }
      ]
    },
    {
      "cell_type": "code",
      "metadata": {
        "id": "kqKkHzMBc_vV"
      },
      "source": [
        "hb_new = hb_new.drop(hb_new[hb_new.adr >2000].index)"
      ],
      "execution_count": null,
      "outputs": []
    },
    {
      "cell_type": "code",
      "metadata": {
        "colab": {
          "base_uri": "https://localhost:8080/"
        },
        "id": "fZ6ed08sc_tA",
        "outputId": "cdf9e2e8-20ef-4c8d-9da5-4b7b70560856"
      },
      "source": [
        "pd.concat([hb_new[hb_new.babies>3], hb_new[hb_new.children>3]]).T"
      ],
      "execution_count": null,
      "outputs": [
        {
          "output_type": "execute_result",
          "data": {
            "text/html": [
              "<div>\n",
              "<style scoped>\n",
              "    .dataframe tbody tr th:only-of-type {\n",
              "        vertical-align: middle;\n",
              "    }\n",
              "\n",
              "    .dataframe tbody tr th {\n",
              "        vertical-align: top;\n",
              "    }\n",
              "\n",
              "    .dataframe thead th {\n",
              "        text-align: right;\n",
              "    }\n",
              "</style>\n",
              "<table border=\"1\" class=\"dataframe\">\n",
              "  <thead>\n",
              "    <tr style=\"text-align: right;\">\n",
              "      <th></th>\n",
              "      <th>46619</th>\n",
              "      <th>78656</th>\n",
              "      <th>328</th>\n",
              "    </tr>\n",
              "  </thead>\n",
              "  <tbody>\n",
              "    <tr>\n",
              "      <th>hotel</th>\n",
              "      <td>City Hotel</td>\n",
              "      <td>City Hotel</td>\n",
              "      <td>Resort Hotel</td>\n",
              "    </tr>\n",
              "    <tr>\n",
              "      <th>is_canceled</th>\n",
              "      <td>0</td>\n",
              "      <td>0</td>\n",
              "      <td>1</td>\n",
              "    </tr>\n",
              "    <tr>\n",
              "      <th>lead_time</th>\n",
              "      <td>37</td>\n",
              "      <td>11</td>\n",
              "      <td>55</td>\n",
              "    </tr>\n",
              "    <tr>\n",
              "      <th>arrival_date_year</th>\n",
              "      <td>2016</td>\n",
              "      <td>2015</td>\n",
              "      <td>2015</td>\n",
              "    </tr>\n",
              "    <tr>\n",
              "      <th>arrival_date_month</th>\n",
              "      <td>January</td>\n",
              "      <td>October</td>\n",
              "      <td>July</td>\n",
              "    </tr>\n",
              "    <tr>\n",
              "      <th>arrival_date_week_number</th>\n",
              "      <td>3</td>\n",
              "      <td>42</td>\n",
              "      <td>29</td>\n",
              "    </tr>\n",
              "    <tr>\n",
              "      <th>arrival_date_day_of_month</th>\n",
              "      <td>12</td>\n",
              "      <td>11</td>\n",
              "      <td>12</td>\n",
              "    </tr>\n",
              "    <tr>\n",
              "      <th>stays_in_weekend_nights</th>\n",
              "      <td>0</td>\n",
              "      <td>2</td>\n",
              "      <td>4</td>\n",
              "    </tr>\n",
              "    <tr>\n",
              "      <th>stays_in_week_nights</th>\n",
              "      <td>2</td>\n",
              "      <td>1</td>\n",
              "      <td>10</td>\n",
              "    </tr>\n",
              "    <tr>\n",
              "      <th>adults</th>\n",
              "      <td>2</td>\n",
              "      <td>1</td>\n",
              "      <td>2</td>\n",
              "    </tr>\n",
              "    <tr>\n",
              "      <th>children</th>\n",
              "      <td>0</td>\n",
              "      <td>0</td>\n",
              "      <td>10</td>\n",
              "    </tr>\n",
              "    <tr>\n",
              "      <th>babies</th>\n",
              "      <td>10</td>\n",
              "      <td>9</td>\n",
              "      <td>0</td>\n",
              "    </tr>\n",
              "    <tr>\n",
              "      <th>meal</th>\n",
              "      <td>BB</td>\n",
              "      <td>BB</td>\n",
              "      <td>BB</td>\n",
              "    </tr>\n",
              "    <tr>\n",
              "      <th>country</th>\n",
              "      <td>PRT</td>\n",
              "      <td>GBR</td>\n",
              "      <td>PRT</td>\n",
              "    </tr>\n",
              "    <tr>\n",
              "      <th>market_segment</th>\n",
              "      <td>Online TA</td>\n",
              "      <td>Corporate</td>\n",
              "      <td>Offline TA/TO</td>\n",
              "    </tr>\n",
              "    <tr>\n",
              "      <th>distribution_channel</th>\n",
              "      <td>TA/TO</td>\n",
              "      <td>Corporate</td>\n",
              "      <td>TA/TO</td>\n",
              "    </tr>\n",
              "    <tr>\n",
              "      <th>is_repeated_guest</th>\n",
              "      <td>0</td>\n",
              "      <td>0</td>\n",
              "      <td>0</td>\n",
              "    </tr>\n",
              "    <tr>\n",
              "      <th>previous_cancellations</th>\n",
              "      <td>0</td>\n",
              "      <td>0</td>\n",
              "      <td>0</td>\n",
              "    </tr>\n",
              "    <tr>\n",
              "      <th>previous_bookings_not_canceled</th>\n",
              "      <td>0</td>\n",
              "      <td>0</td>\n",
              "      <td>0</td>\n",
              "    </tr>\n",
              "    <tr>\n",
              "      <th>reserved_room_type</th>\n",
              "      <td>D</td>\n",
              "      <td>A</td>\n",
              "      <td>D</td>\n",
              "    </tr>\n",
              "    <tr>\n",
              "      <th>assigned_room_type</th>\n",
              "      <td>D</td>\n",
              "      <td>B</td>\n",
              "      <td>D</td>\n",
              "    </tr>\n",
              "    <tr>\n",
              "      <th>booking_changes</th>\n",
              "      <td>1</td>\n",
              "      <td>1</td>\n",
              "      <td>2</td>\n",
              "    </tr>\n",
              "    <tr>\n",
              "      <th>deposit_type</th>\n",
              "      <td>No Deposit</td>\n",
              "      <td>No Deposit</td>\n",
              "      <td>No Deposit</td>\n",
              "    </tr>\n",
              "    <tr>\n",
              "      <th>agent</th>\n",
              "      <td>9</td>\n",
              "      <td>95</td>\n",
              "      <td>8</td>\n",
              "    </tr>\n",
              "    <tr>\n",
              "      <th>days_in_waiting_list</th>\n",
              "      <td>0</td>\n",
              "      <td>0</td>\n",
              "      <td>0</td>\n",
              "    </tr>\n",
              "    <tr>\n",
              "      <th>customer_type</th>\n",
              "      <td>Transient</td>\n",
              "      <td>Transient-Party</td>\n",
              "      <td>Contract</td>\n",
              "    </tr>\n",
              "    <tr>\n",
              "      <th>adr</th>\n",
              "      <td>84.45</td>\n",
              "      <td>95</td>\n",
              "      <td>133.16</td>\n",
              "    </tr>\n",
              "    <tr>\n",
              "      <th>required_car_parking_spaces</th>\n",
              "      <td>0</td>\n",
              "      <td>0</td>\n",
              "      <td>0</td>\n",
              "    </tr>\n",
              "    <tr>\n",
              "      <th>total_of_special_requests</th>\n",
              "      <td>1</td>\n",
              "      <td>0</td>\n",
              "      <td>1</td>\n",
              "    </tr>\n",
              "    <tr>\n",
              "      <th>reservation_status</th>\n",
              "      <td>Check-Out</td>\n",
              "      <td>Check-Out</td>\n",
              "      <td>No-Show</td>\n",
              "    </tr>\n",
              "    <tr>\n",
              "      <th>reservation_status_date</th>\n",
              "      <td>2016-01-14</td>\n",
              "      <td>2015-10-14</td>\n",
              "      <td>2015-07-12</td>\n",
              "    </tr>\n",
              "  </tbody>\n",
              "</table>\n",
              "</div>"
            ],
            "text/plain": [
              "                                     46619            78656          328  \n",
              "hotel                           City Hotel       City Hotel   Resort Hotel\n",
              "is_canceled                              0                0              1\n",
              "lead_time                               37               11             55\n",
              "arrival_date_year                     2016             2015           2015\n",
              "arrival_date_month                 January          October           July\n",
              "arrival_date_week_number                 3               42             29\n",
              "arrival_date_day_of_month               12               11             12\n",
              "stays_in_weekend_nights                  0                2              4\n",
              "stays_in_week_nights                     2                1             10\n",
              "adults                                   2                1              2\n",
              "children                                 0                0             10\n",
              "babies                                  10                9              0\n",
              "meal                                    BB               BB             BB\n",
              "country                                PRT              GBR            PRT\n",
              "market_segment                   Online TA        Corporate  Offline TA/TO\n",
              "distribution_channel                 TA/TO        Corporate          TA/TO\n",
              "is_repeated_guest                        0                0              0\n",
              "previous_cancellations                   0                0              0\n",
              "previous_bookings_not_canceled           0                0              0\n",
              "reserved_room_type                       D                A              D\n",
              "assigned_room_type                       D                B              D\n",
              "booking_changes                          1                1              2\n",
              "deposit_type                    No Deposit       No Deposit     No Deposit\n",
              "agent                                    9               95              8\n",
              "days_in_waiting_list                     0                0              0\n",
              "customer_type                    Transient  Transient-Party       Contract\n",
              "adr                                  84.45               95         133.16\n",
              "required_car_parking_spaces              0                0              0\n",
              "total_of_special_requests                1                0              1\n",
              "reservation_status               Check-Out        Check-Out        No-Show\n",
              "reservation_status_date         2016-01-14       2015-10-14     2015-07-12"
            ]
          },
          "metadata": {
            "tags": []
          },
          "execution_count": 19
        }
      ]
    },
    {
      "cell_type": "code",
      "metadata": {
        "id": "YYUVS_wac_q4"
      },
      "source": [
        "hb_new.drop([14969, 46619, 78656, 328], inplace=True)"
      ],
      "execution_count": null,
      "outputs": []
    },
    {
      "cell_type": "code",
      "metadata": {
        "colab": {
          "base_uri": "https://localhost:8080/"
        },
        "id": "x4uT6oYVc_os",
        "outputId": "e954698d-a1be-4285-ac95-211c7374ee2f"
      },
      "source": [
        "hb_new.info()"
      ],
      "execution_count": null,
      "outputs": [
        {
          "output_type": "stream",
          "text": [
            "<class 'pandas.core.frame.DataFrame'>\n",
            "Int64Index: 119205 entries, 0 to 119389\n",
            "Data columns (total 31 columns):\n",
            " #   Column                          Non-Null Count   Dtype  \n",
            "---  ------                          --------------   -----  \n",
            " 0   hotel                           119205 non-null  object \n",
            " 1   is_canceled                     119205 non-null  int64  \n",
            " 2   lead_time                       119205 non-null  int64  \n",
            " 3   arrival_date_year               119205 non-null  int64  \n",
            " 4   arrival_date_month              119205 non-null  object \n",
            " 5   arrival_date_week_number        119205 non-null  int64  \n",
            " 6   arrival_date_day_of_month       119205 non-null  int64  \n",
            " 7   stays_in_weekend_nights         119205 non-null  int64  \n",
            " 8   stays_in_week_nights            119205 non-null  int64  \n",
            " 9   adults                          119205 non-null  int64  \n",
            " 10  children                        119205 non-null  int64  \n",
            " 11  babies                          119205 non-null  int64  \n",
            " 12  meal                            119205 non-null  object \n",
            " 13  country                         119205 non-null  object \n",
            " 14  market_segment                  119205 non-null  object \n",
            " 15  distribution_channel            119205 non-null  object \n",
            " 16  is_repeated_guest               119205 non-null  int64  \n",
            " 17  previous_cancellations          119205 non-null  int64  \n",
            " 18  previous_bookings_not_canceled  119205 non-null  int64  \n",
            " 19  reserved_room_type              119205 non-null  object \n",
            " 20  assigned_room_type              119205 non-null  object \n",
            " 21  booking_changes                 119205 non-null  int64  \n",
            " 22  deposit_type                    119205 non-null  object \n",
            " 23  agent                           119205 non-null  int64  \n",
            " 24  days_in_waiting_list            119205 non-null  int64  \n",
            " 25  customer_type                   119205 non-null  object \n",
            " 26  adr                             119205 non-null  float64\n",
            " 27  required_car_parking_spaces     119205 non-null  int64  \n",
            " 28  total_of_special_requests       119205 non-null  int64  \n",
            " 29  reservation_status              119205 non-null  object \n",
            " 30  reservation_status_date         119205 non-null  object \n",
            "dtypes: float64(1), int64(18), object(12)\n",
            "memory usage: 29.1+ MB\n"
          ],
          "name": "stdout"
        }
      ]
    },
    {
      "cell_type": "code",
      "metadata": {
        "colab": {
          "base_uri": "https://localhost:8080/"
        },
        "id": "g8PTsMMlc_mk",
        "outputId": "fd258087-ad5a-464e-f108-b2616163cc2e"
      },
      "source": [
        "hb_new.describe().T"
      ],
      "execution_count": null,
      "outputs": [
        {
          "output_type": "execute_result",
          "data": {
            "text/html": [
              "<div>\n",
              "<style scoped>\n",
              "    .dataframe tbody tr th:only-of-type {\n",
              "        vertical-align: middle;\n",
              "    }\n",
              "\n",
              "    .dataframe tbody tr th {\n",
              "        vertical-align: top;\n",
              "    }\n",
              "\n",
              "    .dataframe thead th {\n",
              "        text-align: right;\n",
              "    }\n",
              "</style>\n",
              "<table border=\"1\" class=\"dataframe\">\n",
              "  <thead>\n",
              "    <tr style=\"text-align: right;\">\n",
              "      <th></th>\n",
              "      <th>count</th>\n",
              "      <th>mean</th>\n",
              "      <th>std</th>\n",
              "      <th>min</th>\n",
              "      <th>25%</th>\n",
              "      <th>50%</th>\n",
              "      <th>75%</th>\n",
              "      <th>max</th>\n",
              "    </tr>\n",
              "  </thead>\n",
              "  <tbody>\n",
              "    <tr>\n",
              "      <th>is_canceled</th>\n",
              "      <td>119205.0</td>\n",
              "      <td>0.370765</td>\n",
              "      <td>0.483012</td>\n",
              "      <td>0.0</td>\n",
              "      <td>0.0</td>\n",
              "      <td>0.00</td>\n",
              "      <td>1.0</td>\n",
              "      <td>1.0</td>\n",
              "    </tr>\n",
              "    <tr>\n",
              "      <th>lead_time</th>\n",
              "      <td>119205.0</td>\n",
              "      <td>104.110801</td>\n",
              "      <td>106.876568</td>\n",
              "      <td>0.0</td>\n",
              "      <td>18.0</td>\n",
              "      <td>69.00</td>\n",
              "      <td>161.0</td>\n",
              "      <td>737.0</td>\n",
              "    </tr>\n",
              "    <tr>\n",
              "      <th>arrival_date_year</th>\n",
              "      <td>119205.0</td>\n",
              "      <td>2016.156487</td>\n",
              "      <td>0.707480</td>\n",
              "      <td>2015.0</td>\n",
              "      <td>2016.0</td>\n",
              "      <td>2016.00</td>\n",
              "      <td>2017.0</td>\n",
              "      <td>2017.0</td>\n",
              "    </tr>\n",
              "    <tr>\n",
              "      <th>arrival_date_week_number</th>\n",
              "      <td>119205.0</td>\n",
              "      <td>27.163701</td>\n",
              "      <td>13.600991</td>\n",
              "      <td>1.0</td>\n",
              "      <td>16.0</td>\n",
              "      <td>28.00</td>\n",
              "      <td>38.0</td>\n",
              "      <td>53.0</td>\n",
              "    </tr>\n",
              "    <tr>\n",
              "      <th>arrival_date_day_of_month</th>\n",
              "      <td>119205.0</td>\n",
              "      <td>15.798834</td>\n",
              "      <td>8.781133</td>\n",
              "      <td>1.0</td>\n",
              "      <td>8.0</td>\n",
              "      <td>16.00</td>\n",
              "      <td>23.0</td>\n",
              "      <td>31.0</td>\n",
              "    </tr>\n",
              "    <tr>\n",
              "      <th>stays_in_weekend_nights</th>\n",
              "      <td>119205.0</td>\n",
              "      <td>0.927008</td>\n",
              "      <td>0.995046</td>\n",
              "      <td>0.0</td>\n",
              "      <td>0.0</td>\n",
              "      <td>1.00</td>\n",
              "      <td>2.0</td>\n",
              "      <td>19.0</td>\n",
              "    </tr>\n",
              "    <tr>\n",
              "      <th>stays_in_week_nights</th>\n",
              "      <td>119205.0</td>\n",
              "      <td>2.499132</td>\n",
              "      <td>1.896984</td>\n",
              "      <td>0.0</td>\n",
              "      <td>1.0</td>\n",
              "      <td>2.00</td>\n",
              "      <td>3.0</td>\n",
              "      <td>50.0</td>\n",
              "    </tr>\n",
              "    <tr>\n",
              "      <th>adults</th>\n",
              "      <td>119205.0</td>\n",
              "      <td>1.859209</td>\n",
              "      <td>0.575192</td>\n",
              "      <td>0.0</td>\n",
              "      <td>2.0</td>\n",
              "      <td>2.00</td>\n",
              "      <td>2.0</td>\n",
              "      <td>55.0</td>\n",
              "    </tr>\n",
              "    <tr>\n",
              "      <th>children</th>\n",
              "      <td>119205.0</td>\n",
              "      <td>0.103964</td>\n",
              "      <td>0.397812</td>\n",
              "      <td>0.0</td>\n",
              "      <td>0.0</td>\n",
              "      <td>0.00</td>\n",
              "      <td>0.0</td>\n",
              "      <td>3.0</td>\n",
              "    </tr>\n",
              "    <tr>\n",
              "      <th>babies</th>\n",
              "      <td>119205.0</td>\n",
              "      <td>0.007802</td>\n",
              "      <td>0.089401</td>\n",
              "      <td>0.0</td>\n",
              "      <td>0.0</td>\n",
              "      <td>0.00</td>\n",
              "      <td>0.0</td>\n",
              "      <td>2.0</td>\n",
              "    </tr>\n",
              "    <tr>\n",
              "      <th>is_repeated_guest</th>\n",
              "      <td>119205.0</td>\n",
              "      <td>0.031492</td>\n",
              "      <td>0.174644</td>\n",
              "      <td>0.0</td>\n",
              "      <td>0.0</td>\n",
              "      <td>0.00</td>\n",
              "      <td>0.0</td>\n",
              "      <td>1.0</td>\n",
              "    </tr>\n",
              "    <tr>\n",
              "      <th>previous_cancellations</th>\n",
              "      <td>119205.0</td>\n",
              "      <td>0.087194</td>\n",
              "      <td>0.844936</td>\n",
              "      <td>0.0</td>\n",
              "      <td>0.0</td>\n",
              "      <td>0.00</td>\n",
              "      <td>0.0</td>\n",
              "      <td>26.0</td>\n",
              "    </tr>\n",
              "    <tr>\n",
              "      <th>previous_bookings_not_canceled</th>\n",
              "      <td>119205.0</td>\n",
              "      <td>0.137083</td>\n",
              "      <td>1.498159</td>\n",
              "      <td>0.0</td>\n",
              "      <td>0.0</td>\n",
              "      <td>0.00</td>\n",
              "      <td>0.0</td>\n",
              "      <td>72.0</td>\n",
              "    </tr>\n",
              "    <tr>\n",
              "      <th>booking_changes</th>\n",
              "      <td>119205.0</td>\n",
              "      <td>0.218749</td>\n",
              "      <td>0.638464</td>\n",
              "      <td>0.0</td>\n",
              "      <td>0.0</td>\n",
              "      <td>0.00</td>\n",
              "      <td>0.0</td>\n",
              "      <td>18.0</td>\n",
              "    </tr>\n",
              "    <tr>\n",
              "      <th>agent</th>\n",
              "      <td>119205.0</td>\n",
              "      <td>74.888889</td>\n",
              "      <td>107.169080</td>\n",
              "      <td>0.0</td>\n",
              "      <td>7.0</td>\n",
              "      <td>9.00</td>\n",
              "      <td>152.0</td>\n",
              "      <td>535.0</td>\n",
              "    </tr>\n",
              "    <tr>\n",
              "      <th>days_in_waiting_list</th>\n",
              "      <td>119205.0</td>\n",
              "      <td>2.321312</td>\n",
              "      <td>17.598365</td>\n",
              "      <td>0.0</td>\n",
              "      <td>0.0</td>\n",
              "      <td>0.00</td>\n",
              "      <td>0.0</td>\n",
              "      <td>391.0</td>\n",
              "    </tr>\n",
              "    <tr>\n",
              "      <th>adr</th>\n",
              "      <td>119205.0</td>\n",
              "      <td>101.925500</td>\n",
              "      <td>48.042823</td>\n",
              "      <td>0.0</td>\n",
              "      <td>69.5</td>\n",
              "      <td>94.95</td>\n",
              "      <td>126.0</td>\n",
              "      <td>510.0</td>\n",
              "    </tr>\n",
              "    <tr>\n",
              "      <th>required_car_parking_spaces</th>\n",
              "      <td>119205.0</td>\n",
              "      <td>0.062556</td>\n",
              "      <td>0.245364</td>\n",
              "      <td>0.0</td>\n",
              "      <td>0.0</td>\n",
              "      <td>0.00</td>\n",
              "      <td>0.0</td>\n",
              "      <td>8.0</td>\n",
              "    </tr>\n",
              "    <tr>\n",
              "      <th>total_of_special_requests</th>\n",
              "      <td>119205.0</td>\n",
              "      <td>0.571511</td>\n",
              "      <td>0.792885</td>\n",
              "      <td>0.0</td>\n",
              "      <td>0.0</td>\n",
              "      <td>0.00</td>\n",
              "      <td>1.0</td>\n",
              "      <td>5.0</td>\n",
              "    </tr>\n",
              "  </tbody>\n",
              "</table>\n",
              "</div>"
            ],
            "text/plain": [
              "                                   count         mean  ...     75%     max\n",
              "is_canceled                     119205.0     0.370765  ...     1.0     1.0\n",
              "lead_time                       119205.0   104.110801  ...   161.0   737.0\n",
              "arrival_date_year               119205.0  2016.156487  ...  2017.0  2017.0\n",
              "arrival_date_week_number        119205.0    27.163701  ...    38.0    53.0\n",
              "arrival_date_day_of_month       119205.0    15.798834  ...    23.0    31.0\n",
              "stays_in_weekend_nights         119205.0     0.927008  ...     2.0    19.0\n",
              "stays_in_week_nights            119205.0     2.499132  ...     3.0    50.0\n",
              "adults                          119205.0     1.859209  ...     2.0    55.0\n",
              "children                        119205.0     0.103964  ...     0.0     3.0\n",
              "babies                          119205.0     0.007802  ...     0.0     2.0\n",
              "is_repeated_guest               119205.0     0.031492  ...     0.0     1.0\n",
              "previous_cancellations          119205.0     0.087194  ...     0.0    26.0\n",
              "previous_bookings_not_canceled  119205.0     0.137083  ...     0.0    72.0\n",
              "booking_changes                 119205.0     0.218749  ...     0.0    18.0\n",
              "agent                           119205.0    74.888889  ...   152.0   535.0\n",
              "days_in_waiting_list            119205.0     2.321312  ...     0.0   391.0\n",
              "adr                             119205.0   101.925500  ...   126.0   510.0\n",
              "required_car_parking_spaces     119205.0     0.062556  ...     0.0     8.0\n",
              "total_of_special_requests       119205.0     0.571511  ...     1.0     5.0\n",
              "\n",
              "[19 rows x 8 columns]"
            ]
          },
          "metadata": {
            "tags": []
          },
          "execution_count": 22
        }
      ]
    },
    {
      "cell_type": "markdown",
      "metadata": {
        "id": "Woy-_G2qJBlU"
      },
      "source": [
        "# **Descriptive analysis**"
      ]
    },
    {
      "cell_type": "markdown",
      "metadata": {
        "id": "uL6G4gMTJBlU"
      },
      "source": [
        "<font face=\"timesnewroman\" size=2 color=#A52A2A > Comment: This section is a supplement to the descriptive analysis in data dictionary.xlsx."
      ]
    },
    {
      "cell_type": "code",
      "metadata": {
        "id": "S7jRzAyPJBlU"
      },
      "source": [
        "import matplotlib.pyplot as plt\n",
        "%matplotlib inline"
      ],
      "execution_count": null,
      "outputs": []
    },
    {
      "cell_type": "markdown",
      "metadata": {
        "id": "lm6x3eGGJBlV"
      },
      "source": [
        "<font face=\"timesnewroman\" size=4 color=#A52A2A > 2.1 Load dataset"
      ]
    },
    {
      "cell_type": "code",
      "metadata": {
        "id": "enKw9IY6JBlV"
      },
      "source": [
        "# hb=pd.read_csv(\"hb.csv\")"
      ],
      "execution_count": null,
      "outputs": []
    },
    {
      "cell_type": "markdown",
      "metadata": {
        "id": "gdjQJokNJBlV"
      },
      "source": [
        "<font face=\"timesnewroman\" size=4 color=#A52A2A > 2.2 Data Overview"
      ]
    },
    {
      "cell_type": "code",
      "metadata": {
        "id": "HttvG6uxJBlV",
        "colab": {
          "base_uri": "https://localhost:8080/"
        },
        "outputId": "13d8c21c-f99b-4901-af1e-2699542c2f1d"
      },
      "source": [
        "hb_new"
      ],
      "execution_count": null,
      "outputs": [
        {
          "output_type": "execute_result",
          "data": {
            "text/html": [
              "<div>\n",
              "<style scoped>\n",
              "    .dataframe tbody tr th:only-of-type {\n",
              "        vertical-align: middle;\n",
              "    }\n",
              "\n",
              "    .dataframe tbody tr th {\n",
              "        vertical-align: top;\n",
              "    }\n",
              "\n",
              "    .dataframe thead th {\n",
              "        text-align: right;\n",
              "    }\n",
              "</style>\n",
              "<table border=\"1\" class=\"dataframe\">\n",
              "  <thead>\n",
              "    <tr style=\"text-align: right;\">\n",
              "      <th></th>\n",
              "      <th>hotel</th>\n",
              "      <th>is_canceled</th>\n",
              "      <th>lead_time</th>\n",
              "      <th>arrival_date_year</th>\n",
              "      <th>arrival_date_month</th>\n",
              "      <th>arrival_date_week_number</th>\n",
              "      <th>arrival_date_day_of_month</th>\n",
              "      <th>stays_in_weekend_nights</th>\n",
              "      <th>stays_in_week_nights</th>\n",
              "      <th>adults</th>\n",
              "      <th>children</th>\n",
              "      <th>babies</th>\n",
              "      <th>meal</th>\n",
              "      <th>country</th>\n",
              "      <th>market_segment</th>\n",
              "      <th>distribution_channel</th>\n",
              "      <th>is_repeated_guest</th>\n",
              "      <th>previous_cancellations</th>\n",
              "      <th>previous_bookings_not_canceled</th>\n",
              "      <th>reserved_room_type</th>\n",
              "      <th>assigned_room_type</th>\n",
              "      <th>booking_changes</th>\n",
              "      <th>deposit_type</th>\n",
              "      <th>agent</th>\n",
              "      <th>days_in_waiting_list</th>\n",
              "      <th>customer_type</th>\n",
              "      <th>adr</th>\n",
              "      <th>required_car_parking_spaces</th>\n",
              "      <th>total_of_special_requests</th>\n",
              "      <th>reservation_status</th>\n",
              "      <th>reservation_status_date</th>\n",
              "    </tr>\n",
              "  </thead>\n",
              "  <tbody>\n",
              "    <tr>\n",
              "      <th>0</th>\n",
              "      <td>Resort Hotel</td>\n",
              "      <td>0</td>\n",
              "      <td>342</td>\n",
              "      <td>2015</td>\n",
              "      <td>July</td>\n",
              "      <td>27</td>\n",
              "      <td>1</td>\n",
              "      <td>0</td>\n",
              "      <td>0</td>\n",
              "      <td>2</td>\n",
              "      <td>0</td>\n",
              "      <td>0</td>\n",
              "      <td>BB</td>\n",
              "      <td>PRT</td>\n",
              "      <td>Direct</td>\n",
              "      <td>Direct</td>\n",
              "      <td>0</td>\n",
              "      <td>0</td>\n",
              "      <td>0</td>\n",
              "      <td>C</td>\n",
              "      <td>C</td>\n",
              "      <td>3</td>\n",
              "      <td>No Deposit</td>\n",
              "      <td>0</td>\n",
              "      <td>0</td>\n",
              "      <td>Transient</td>\n",
              "      <td>0.00</td>\n",
              "      <td>0</td>\n",
              "      <td>0</td>\n",
              "      <td>Check-Out</td>\n",
              "      <td>2015-07-01</td>\n",
              "    </tr>\n",
              "    <tr>\n",
              "      <th>1</th>\n",
              "      <td>Resort Hotel</td>\n",
              "      <td>0</td>\n",
              "      <td>737</td>\n",
              "      <td>2015</td>\n",
              "      <td>July</td>\n",
              "      <td>27</td>\n",
              "      <td>1</td>\n",
              "      <td>0</td>\n",
              "      <td>0</td>\n",
              "      <td>2</td>\n",
              "      <td>0</td>\n",
              "      <td>0</td>\n",
              "      <td>BB</td>\n",
              "      <td>PRT</td>\n",
              "      <td>Direct</td>\n",
              "      <td>Direct</td>\n",
              "      <td>0</td>\n",
              "      <td>0</td>\n",
              "      <td>0</td>\n",
              "      <td>C</td>\n",
              "      <td>C</td>\n",
              "      <td>4</td>\n",
              "      <td>No Deposit</td>\n",
              "      <td>0</td>\n",
              "      <td>0</td>\n",
              "      <td>Transient</td>\n",
              "      <td>0.00</td>\n",
              "      <td>0</td>\n",
              "      <td>0</td>\n",
              "      <td>Check-Out</td>\n",
              "      <td>2015-07-01</td>\n",
              "    </tr>\n",
              "    <tr>\n",
              "      <th>2</th>\n",
              "      <td>Resort Hotel</td>\n",
              "      <td>0</td>\n",
              "      <td>7</td>\n",
              "      <td>2015</td>\n",
              "      <td>July</td>\n",
              "      <td>27</td>\n",
              "      <td>1</td>\n",
              "      <td>0</td>\n",
              "      <td>1</td>\n",
              "      <td>1</td>\n",
              "      <td>0</td>\n",
              "      <td>0</td>\n",
              "      <td>BB</td>\n",
              "      <td>GBR</td>\n",
              "      <td>Direct</td>\n",
              "      <td>Direct</td>\n",
              "      <td>0</td>\n",
              "      <td>0</td>\n",
              "      <td>0</td>\n",
              "      <td>A</td>\n",
              "      <td>C</td>\n",
              "      <td>0</td>\n",
              "      <td>No Deposit</td>\n",
              "      <td>0</td>\n",
              "      <td>0</td>\n",
              "      <td>Transient</td>\n",
              "      <td>75.00</td>\n",
              "      <td>0</td>\n",
              "      <td>0</td>\n",
              "      <td>Check-Out</td>\n",
              "      <td>2015-07-02</td>\n",
              "    </tr>\n",
              "    <tr>\n",
              "      <th>3</th>\n",
              "      <td>Resort Hotel</td>\n",
              "      <td>0</td>\n",
              "      <td>13</td>\n",
              "      <td>2015</td>\n",
              "      <td>July</td>\n",
              "      <td>27</td>\n",
              "      <td>1</td>\n",
              "      <td>0</td>\n",
              "      <td>1</td>\n",
              "      <td>1</td>\n",
              "      <td>0</td>\n",
              "      <td>0</td>\n",
              "      <td>BB</td>\n",
              "      <td>GBR</td>\n",
              "      <td>Corporate</td>\n",
              "      <td>Corporate</td>\n",
              "      <td>0</td>\n",
              "      <td>0</td>\n",
              "      <td>0</td>\n",
              "      <td>A</td>\n",
              "      <td>A</td>\n",
              "      <td>0</td>\n",
              "      <td>No Deposit</td>\n",
              "      <td>304</td>\n",
              "      <td>0</td>\n",
              "      <td>Transient</td>\n",
              "      <td>75.00</td>\n",
              "      <td>0</td>\n",
              "      <td>0</td>\n",
              "      <td>Check-Out</td>\n",
              "      <td>2015-07-02</td>\n",
              "    </tr>\n",
              "    <tr>\n",
              "      <th>4</th>\n",
              "      <td>Resort Hotel</td>\n",
              "      <td>0</td>\n",
              "      <td>14</td>\n",
              "      <td>2015</td>\n",
              "      <td>July</td>\n",
              "      <td>27</td>\n",
              "      <td>1</td>\n",
              "      <td>0</td>\n",
              "      <td>2</td>\n",
              "      <td>2</td>\n",
              "      <td>0</td>\n",
              "      <td>0</td>\n",
              "      <td>BB</td>\n",
              "      <td>GBR</td>\n",
              "      <td>Online TA</td>\n",
              "      <td>TA/TO</td>\n",
              "      <td>0</td>\n",
              "      <td>0</td>\n",
              "      <td>0</td>\n",
              "      <td>A</td>\n",
              "      <td>A</td>\n",
              "      <td>0</td>\n",
              "      <td>No Deposit</td>\n",
              "      <td>240</td>\n",
              "      <td>0</td>\n",
              "      <td>Transient</td>\n",
              "      <td>98.00</td>\n",
              "      <td>0</td>\n",
              "      <td>1</td>\n",
              "      <td>Check-Out</td>\n",
              "      <td>2015-07-03</td>\n",
              "    </tr>\n",
              "    <tr>\n",
              "      <th>...</th>\n",
              "      <td>...</td>\n",
              "      <td>...</td>\n",
              "      <td>...</td>\n",
              "      <td>...</td>\n",
              "      <td>...</td>\n",
              "      <td>...</td>\n",
              "      <td>...</td>\n",
              "      <td>...</td>\n",
              "      <td>...</td>\n",
              "      <td>...</td>\n",
              "      <td>...</td>\n",
              "      <td>...</td>\n",
              "      <td>...</td>\n",
              "      <td>...</td>\n",
              "      <td>...</td>\n",
              "      <td>...</td>\n",
              "      <td>...</td>\n",
              "      <td>...</td>\n",
              "      <td>...</td>\n",
              "      <td>...</td>\n",
              "      <td>...</td>\n",
              "      <td>...</td>\n",
              "      <td>...</td>\n",
              "      <td>...</td>\n",
              "      <td>...</td>\n",
              "      <td>...</td>\n",
              "      <td>...</td>\n",
              "      <td>...</td>\n",
              "      <td>...</td>\n",
              "      <td>...</td>\n",
              "      <td>...</td>\n",
              "    </tr>\n",
              "    <tr>\n",
              "      <th>119385</th>\n",
              "      <td>City Hotel</td>\n",
              "      <td>0</td>\n",
              "      <td>23</td>\n",
              "      <td>2017</td>\n",
              "      <td>August</td>\n",
              "      <td>35</td>\n",
              "      <td>30</td>\n",
              "      <td>2</td>\n",
              "      <td>5</td>\n",
              "      <td>2</td>\n",
              "      <td>0</td>\n",
              "      <td>0</td>\n",
              "      <td>BB</td>\n",
              "      <td>BEL</td>\n",
              "      <td>Offline TA/TO</td>\n",
              "      <td>TA/TO</td>\n",
              "      <td>0</td>\n",
              "      <td>0</td>\n",
              "      <td>0</td>\n",
              "      <td>A</td>\n",
              "      <td>A</td>\n",
              "      <td>0</td>\n",
              "      <td>No Deposit</td>\n",
              "      <td>394</td>\n",
              "      <td>0</td>\n",
              "      <td>Transient</td>\n",
              "      <td>96.14</td>\n",
              "      <td>0</td>\n",
              "      <td>0</td>\n",
              "      <td>Check-Out</td>\n",
              "      <td>2017-09-06</td>\n",
              "    </tr>\n",
              "    <tr>\n",
              "      <th>119386</th>\n",
              "      <td>City Hotel</td>\n",
              "      <td>0</td>\n",
              "      <td>102</td>\n",
              "      <td>2017</td>\n",
              "      <td>August</td>\n",
              "      <td>35</td>\n",
              "      <td>31</td>\n",
              "      <td>2</td>\n",
              "      <td>5</td>\n",
              "      <td>3</td>\n",
              "      <td>0</td>\n",
              "      <td>0</td>\n",
              "      <td>BB</td>\n",
              "      <td>FRA</td>\n",
              "      <td>Online TA</td>\n",
              "      <td>TA/TO</td>\n",
              "      <td>0</td>\n",
              "      <td>0</td>\n",
              "      <td>0</td>\n",
              "      <td>E</td>\n",
              "      <td>E</td>\n",
              "      <td>0</td>\n",
              "      <td>No Deposit</td>\n",
              "      <td>9</td>\n",
              "      <td>0</td>\n",
              "      <td>Transient</td>\n",
              "      <td>225.43</td>\n",
              "      <td>0</td>\n",
              "      <td>2</td>\n",
              "      <td>Check-Out</td>\n",
              "      <td>2017-09-07</td>\n",
              "    </tr>\n",
              "    <tr>\n",
              "      <th>119387</th>\n",
              "      <td>City Hotel</td>\n",
              "      <td>0</td>\n",
              "      <td>34</td>\n",
              "      <td>2017</td>\n",
              "      <td>August</td>\n",
              "      <td>35</td>\n",
              "      <td>31</td>\n",
              "      <td>2</td>\n",
              "      <td>5</td>\n",
              "      <td>2</td>\n",
              "      <td>0</td>\n",
              "      <td>0</td>\n",
              "      <td>BB</td>\n",
              "      <td>DEU</td>\n",
              "      <td>Online TA</td>\n",
              "      <td>TA/TO</td>\n",
              "      <td>0</td>\n",
              "      <td>0</td>\n",
              "      <td>0</td>\n",
              "      <td>D</td>\n",
              "      <td>D</td>\n",
              "      <td>0</td>\n",
              "      <td>No Deposit</td>\n",
              "      <td>9</td>\n",
              "      <td>0</td>\n",
              "      <td>Transient</td>\n",
              "      <td>157.71</td>\n",
              "      <td>0</td>\n",
              "      <td>4</td>\n",
              "      <td>Check-Out</td>\n",
              "      <td>2017-09-07</td>\n",
              "    </tr>\n",
              "    <tr>\n",
              "      <th>119388</th>\n",
              "      <td>City Hotel</td>\n",
              "      <td>0</td>\n",
              "      <td>109</td>\n",
              "      <td>2017</td>\n",
              "      <td>August</td>\n",
              "      <td>35</td>\n",
              "      <td>31</td>\n",
              "      <td>2</td>\n",
              "      <td>5</td>\n",
              "      <td>2</td>\n",
              "      <td>0</td>\n",
              "      <td>0</td>\n",
              "      <td>BB</td>\n",
              "      <td>GBR</td>\n",
              "      <td>Online TA</td>\n",
              "      <td>TA/TO</td>\n",
              "      <td>0</td>\n",
              "      <td>0</td>\n",
              "      <td>0</td>\n",
              "      <td>A</td>\n",
              "      <td>A</td>\n",
              "      <td>0</td>\n",
              "      <td>No Deposit</td>\n",
              "      <td>89</td>\n",
              "      <td>0</td>\n",
              "      <td>Transient</td>\n",
              "      <td>104.40</td>\n",
              "      <td>0</td>\n",
              "      <td>0</td>\n",
              "      <td>Check-Out</td>\n",
              "      <td>2017-09-07</td>\n",
              "    </tr>\n",
              "    <tr>\n",
              "      <th>119389</th>\n",
              "      <td>City Hotel</td>\n",
              "      <td>0</td>\n",
              "      <td>205</td>\n",
              "      <td>2017</td>\n",
              "      <td>August</td>\n",
              "      <td>35</td>\n",
              "      <td>29</td>\n",
              "      <td>2</td>\n",
              "      <td>7</td>\n",
              "      <td>2</td>\n",
              "      <td>0</td>\n",
              "      <td>0</td>\n",
              "      <td>HB</td>\n",
              "      <td>DEU</td>\n",
              "      <td>Online TA</td>\n",
              "      <td>TA/TO</td>\n",
              "      <td>0</td>\n",
              "      <td>0</td>\n",
              "      <td>0</td>\n",
              "      <td>A</td>\n",
              "      <td>A</td>\n",
              "      <td>0</td>\n",
              "      <td>No Deposit</td>\n",
              "      <td>9</td>\n",
              "      <td>0</td>\n",
              "      <td>Transient</td>\n",
              "      <td>151.20</td>\n",
              "      <td>0</td>\n",
              "      <td>2</td>\n",
              "      <td>Check-Out</td>\n",
              "      <td>2017-09-07</td>\n",
              "    </tr>\n",
              "  </tbody>\n",
              "</table>\n",
              "<p>119205 rows × 31 columns</p>\n",
              "</div>"
            ],
            "text/plain": [
              "               hotel  is_canceled  ...  reservation_status  reservation_status_date\n",
              "0       Resort Hotel            0  ...           Check-Out               2015-07-01\n",
              "1       Resort Hotel            0  ...           Check-Out               2015-07-01\n",
              "2       Resort Hotel            0  ...           Check-Out               2015-07-02\n",
              "3       Resort Hotel            0  ...           Check-Out               2015-07-02\n",
              "4       Resort Hotel            0  ...           Check-Out               2015-07-03\n",
              "...              ...          ...  ...                 ...                      ...\n",
              "119385    City Hotel            0  ...           Check-Out               2017-09-06\n",
              "119386    City Hotel            0  ...           Check-Out               2017-09-07\n",
              "119387    City Hotel            0  ...           Check-Out               2017-09-07\n",
              "119388    City Hotel            0  ...           Check-Out               2017-09-07\n",
              "119389    City Hotel            0  ...           Check-Out               2017-09-07\n",
              "\n",
              "[119205 rows x 31 columns]"
            ]
          },
          "metadata": {
            "tags": []
          },
          "execution_count": 25
        }
      ]
    },
    {
      "cell_type": "markdown",
      "metadata": {
        "id": "Xz3ATS4uJBlW"
      },
      "source": [
        "<font face=\"timesnewroman\" size=4 color=#A52A2A > 2.3 Descriptive Analysis"
      ]
    },
    {
      "cell_type": "markdown",
      "metadata": {
        "id": "qeqi8h7BJBlX"
      },
      "source": [
        "<font face=\"timesnewroman\" size=3 color=#A52A2A > lead time"
      ]
    },
    {
      "cell_type": "code",
      "metadata": {
        "id": "ymFDBtwyJBlX",
        "colab": {
          "base_uri": "https://localhost:8080/"
        },
        "outputId": "84552337-2375-4b63-ecaa-aee59201d05a"
      },
      "source": [
        "(pd.DataFrame(hb_new.lead_time)).describe()"
      ],
      "execution_count": null,
      "outputs": [
        {
          "output_type": "execute_result",
          "data": {
            "text/html": [
              "<div>\n",
              "<style scoped>\n",
              "    .dataframe tbody tr th:only-of-type {\n",
              "        vertical-align: middle;\n",
              "    }\n",
              "\n",
              "    .dataframe tbody tr th {\n",
              "        vertical-align: top;\n",
              "    }\n",
              "\n",
              "    .dataframe thead th {\n",
              "        text-align: right;\n",
              "    }\n",
              "</style>\n",
              "<table border=\"1\" class=\"dataframe\">\n",
              "  <thead>\n",
              "    <tr style=\"text-align: right;\">\n",
              "      <th></th>\n",
              "      <th>lead_time</th>\n",
              "    </tr>\n",
              "  </thead>\n",
              "  <tbody>\n",
              "    <tr>\n",
              "      <th>count</th>\n",
              "      <td>119205.000000</td>\n",
              "    </tr>\n",
              "    <tr>\n",
              "      <th>mean</th>\n",
              "      <td>104.110801</td>\n",
              "    </tr>\n",
              "    <tr>\n",
              "      <th>std</th>\n",
              "      <td>106.876568</td>\n",
              "    </tr>\n",
              "    <tr>\n",
              "      <th>min</th>\n",
              "      <td>0.000000</td>\n",
              "    </tr>\n",
              "    <tr>\n",
              "      <th>25%</th>\n",
              "      <td>18.000000</td>\n",
              "    </tr>\n",
              "    <tr>\n",
              "      <th>50%</th>\n",
              "      <td>69.000000</td>\n",
              "    </tr>\n",
              "    <tr>\n",
              "      <th>75%</th>\n",
              "      <td>161.000000</td>\n",
              "    </tr>\n",
              "    <tr>\n",
              "      <th>max</th>\n",
              "      <td>737.000000</td>\n",
              "    </tr>\n",
              "  </tbody>\n",
              "</table>\n",
              "</div>"
            ],
            "text/plain": [
              "           lead_time\n",
              "count  119205.000000\n",
              "mean      104.110801\n",
              "std       106.876568\n",
              "min         0.000000\n",
              "25%        18.000000\n",
              "50%        69.000000\n",
              "75%       161.000000\n",
              "max       737.000000"
            ]
          },
          "metadata": {
            "tags": []
          },
          "execution_count": 26
        }
      ]
    },
    {
      "cell_type": "code",
      "metadata": {
        "id": "8Xse686_JBlX",
        "colab": {
          "base_uri": "https://localhost:8080/"
        },
        "outputId": "6452cc80-d868-44c6-e17b-8c5a9a040473"
      },
      "source": [
        "from matplotlib import pyplot\n",
        "lead_time=hb_new.lead_time\n",
        "def drawHist(lead_time):\n",
        "    pyplot.hist(hb_new.lead_time, 100)\n",
        "    pyplot.xlabel('lead time')\n",
        "    pyplot.ylabel('Frequency')\n",
        "    pyplot.show()\n",
        "drawHist(lead_time)"
      ],
      "execution_count": null,
      "outputs": [
        {
          "output_type": "display_data",
          "data": {
            "image/png": "[encoded data removed]",
            "text/plain": [
              "<Figure size 432x288 with 1 Axes>"
            ]
          },
          "metadata": {
            "tags": [],
            "needs_background": "light"
          }
        }
      ]
    },
    {
      "cell_type": "markdown",
      "metadata": {
        "id": "qULcXOsaJBlX"
      },
      "source": [
        "<font face=\"timesnewroman\" size=3 color=#A52A2A > arrival date week number"
      ]
    },
    {
      "cell_type": "code",
      "metadata": {
        "id": "u6dp7Ht0JBlY",
        "colab": {
          "base_uri": "https://localhost:8080/"
        },
        "outputId": "032b1eac-b71a-495d-d6f4-1dad77fd5e2c"
      },
      "source": [
        "(pd.DataFrame(hb_new.arrival_date_week_number)).describe()"
      ],
      "execution_count": null,
      "outputs": [
        {
          "output_type": "execute_result",
          "data": {
            "text/html": [
              "<div>\n",
              "<style scoped>\n",
              "    .dataframe tbody tr th:only-of-type {\n",
              "        vertical-align: middle;\n",
              "    }\n",
              "\n",
              "    .dataframe tbody tr th {\n",
              "        vertical-align: top;\n",
              "    }\n",
              "\n",
              "    .dataframe thead th {\n",
              "        text-align: right;\n",
              "    }\n",
              "</style>\n",
              "<table border=\"1\" class=\"dataframe\">\n",
              "  <thead>\n",
              "    <tr style=\"text-align: right;\">\n",
              "      <th></th>\n",
              "      <th>arrival_date_week_number</th>\n",
              "    </tr>\n",
              "  </thead>\n",
              "  <tbody>\n",
              "    <tr>\n",
              "      <th>count</th>\n",
              "      <td>119205.000000</td>\n",
              "    </tr>\n",
              "    <tr>\n",
              "      <th>mean</th>\n",
              "      <td>27.163701</td>\n",
              "    </tr>\n",
              "    <tr>\n",
              "      <th>std</th>\n",
              "      <td>13.600991</td>\n",
              "    </tr>\n",
              "    <tr>\n",
              "      <th>min</th>\n",
              "      <td>1.000000</td>\n",
              "    </tr>\n",
              "    <tr>\n",
              "      <th>25%</th>\n",
              "      <td>16.000000</td>\n",
              "    </tr>\n",
              "    <tr>\n",
              "      <th>50%</th>\n",
              "      <td>28.000000</td>\n",
              "    </tr>\n",
              "    <tr>\n",
              "      <th>75%</th>\n",
              "      <td>38.000000</td>\n",
              "    </tr>\n",
              "    <tr>\n",
              "      <th>max</th>\n",
              "      <td>53.000000</td>\n",
              "    </tr>\n",
              "  </tbody>\n",
              "</table>\n",
              "</div>"
            ],
            "text/plain": [
              "       arrival_date_week_number\n",
              "count             119205.000000\n",
              "mean                  27.163701\n",
              "std                   13.600991\n",
              "min                    1.000000\n",
              "25%                   16.000000\n",
              "50%                   28.000000\n",
              "75%                   38.000000\n",
              "max                   53.000000"
            ]
          },
          "metadata": {
            "tags": []
          },
          "execution_count": 28
        }
      ]
    },
    {
      "cell_type": "code",
      "metadata": {
        "id": "3WCzBt_cJBlY",
        "colab": {
          "base_uri": "https://localhost:8080/"
        },
        "outputId": "05c3cb90-7fb1-44f0-9633-68635e638cbd"
      },
      "source": [
        "from matplotlib import pyplot\n",
        "arrival_date_week_number=hb_new.arrival_date_week_number\n",
        "def drawHist(arrival_date_week_number):\n",
        "    pyplot.hist(hb_new.arrival_date_week_number, 125)\n",
        "    pyplot.xlabel('Arrival Date Week Number')\n",
        "    pyplot.ylabel('Frequency')\n",
        "    pyplot.show()\n",
        "drawHist(arrival_date_week_number)"
      ],
      "execution_count": null,
      "outputs": [
        {
          "output_type": "display_data",
          "data": {
            "image/png": "[encoded data removed]",
            "text/plain": [
              "<Figure size 432x288 with 1 Axes>"
            ]
          },
          "metadata": {
            "tags": [],
            "needs_background": "light"
          }
        }
      ]
    },
    {
      "cell_type": "markdown",
      "metadata": {
        "id": "iOk4VQ_YJBlY"
      },
      "source": [
        "<font face=\"timesnewroman\" size=3 color=#A52A2A > stays in weekend nights"
      ]
    },
    {
      "cell_type": "code",
      "metadata": {
        "id": "irVHYpaFJBlZ",
        "colab": {
          "base_uri": "https://localhost:8080/"
        },
        "outputId": "503bbd83-e45a-4d80-89aa-e914a4a5a22b"
      },
      "source": [
        "(pd.DataFrame(hb_new.stays_in_weekend_nights)).describe()"
      ],
      "execution_count": null,
      "outputs": [
        {
          "output_type": "execute_result",
          "data": {
            "text/html": [
              "<div>\n",
              "<style scoped>\n",
              "    .dataframe tbody tr th:only-of-type {\n",
              "        vertical-align: middle;\n",
              "    }\n",
              "\n",
              "    .dataframe tbody tr th {\n",
              "        vertical-align: top;\n",
              "    }\n",
              "\n",
              "    .dataframe thead th {\n",
              "        text-align: right;\n",
              "    }\n",
              "</style>\n",
              "<table border=\"1\" class=\"dataframe\">\n",
              "  <thead>\n",
              "    <tr style=\"text-align: right;\">\n",
              "      <th></th>\n",
              "      <th>stays_in_weekend_nights</th>\n",
              "    </tr>\n",
              "  </thead>\n",
              "  <tbody>\n",
              "    <tr>\n",
              "      <th>count</th>\n",
              "      <td>119205.000000</td>\n",
              "    </tr>\n",
              "    <tr>\n",
              "      <th>mean</th>\n",
              "      <td>0.927008</td>\n",
              "    </tr>\n",
              "    <tr>\n",
              "      <th>std</th>\n",
              "      <td>0.995046</td>\n",
              "    </tr>\n",
              "    <tr>\n",
              "      <th>min</th>\n",
              "      <td>0.000000</td>\n",
              "    </tr>\n",
              "    <tr>\n",
              "      <th>25%</th>\n",
              "      <td>0.000000</td>\n",
              "    </tr>\n",
              "    <tr>\n",
              "      <th>50%</th>\n",
              "      <td>1.000000</td>\n",
              "    </tr>\n",
              "    <tr>\n",
              "      <th>75%</th>\n",
              "      <td>2.000000</td>\n",
              "    </tr>\n",
              "    <tr>\n",
              "      <th>max</th>\n",
              "      <td>19.000000</td>\n",
              "    </tr>\n",
              "  </tbody>\n",
              "</table>\n",
              "</div>"
            ],
            "text/plain": [
              "       stays_in_weekend_nights\n",
              "count            119205.000000\n",
              "mean                  0.927008\n",
              "std                   0.995046\n",
              "min                   0.000000\n",
              "25%                   0.000000\n",
              "50%                   1.000000\n",
              "75%                   2.000000\n",
              "max                  19.000000"
            ]
          },
          "metadata": {
            "tags": []
          },
          "execution_count": 30
        }
      ]
    },
    {
      "cell_type": "code",
      "metadata": {
        "id": "BI1DszFpJBlZ",
        "colab": {
          "base_uri": "https://localhost:8080/"
        },
        "outputId": "88ac26bb-d94a-47dd-e312-b10ec1d4ba3d"
      },
      "source": [
        "from matplotlib import pyplot\n",
        "stays_in_weekend_nights=hb_new.stays_in_weekend_nights\n",
        "def drawHist(stays_in_weekend_nights):\n",
        "    pyplot.hist(hb_new.stays_in_weekend_nights, 40)\n",
        "    pyplot.xlabel('Stays In Weekend Nights')\n",
        "    pyplot.ylabel('Frequency')\n",
        "    pyplot.show()\n",
        "drawHist(stays_in_weekend_nights)"
      ],
      "execution_count": null,
      "outputs": [
        {
          "output_type": "display_data",
          "data": {
            "image/png": "[encoded data removed]",
            "text/plain": [
              "<Figure size 432x288 with 1 Axes>"
            ]
          },
          "metadata": {
            "tags": [],
            "needs_background": "light"
          }
        }
      ]
    },
    {
      "cell_type": "markdown",
      "metadata": {
        "id": "-X3tfphOJBlZ"
      },
      "source": [
        "<font face=\"timesnewroman\" size=3 color=#A52A2A > stays in week nights"
      ]
    },
    {
      "cell_type": "code",
      "metadata": {
        "id": "7ZGte54lJBlZ",
        "colab": {
          "base_uri": "https://localhost:8080/"
        },
        "outputId": "844c82fd-f87d-4993-c215-f2869eabda3e"
      },
      "source": [
        "(pd.DataFrame(hb_new.stays_in_week_nights)).describe()"
      ],
      "execution_count": null,
      "outputs": [
        {
          "output_type": "execute_result",
          "data": {
            "text/html": [
              "<div>\n",
              "<style scoped>\n",
              "    .dataframe tbody tr th:only-of-type {\n",
              "        vertical-align: middle;\n",
              "    }\n",
              "\n",
              "    .dataframe tbody tr th {\n",
              "        vertical-align: top;\n",
              "    }\n",
              "\n",
              "    .dataframe thead th {\n",
              "        text-align: right;\n",
              "    }\n",
              "</style>\n",
              "<table border=\"1\" class=\"dataframe\">\n",
              "  <thead>\n",
              "    <tr style=\"text-align: right;\">\n",
              "      <th></th>\n",
              "      <th>stays_in_week_nights</th>\n",
              "    </tr>\n",
              "  </thead>\n",
              "  <tbody>\n",
              "    <tr>\n",
              "      <th>count</th>\n",
              "      <td>119205.000000</td>\n",
              "    </tr>\n",
              "    <tr>\n",
              "      <th>mean</th>\n",
              "      <td>2.499132</td>\n",
              "    </tr>\n",
              "    <tr>\n",
              "      <th>std</th>\n",
              "      <td>1.896984</td>\n",
              "    </tr>\n",
              "    <tr>\n",
              "      <th>min</th>\n",
              "      <td>0.000000</td>\n",
              "    </tr>\n",
              "    <tr>\n",
              "      <th>25%</th>\n",
              "      <td>1.000000</td>\n",
              "    </tr>\n",
              "    <tr>\n",
              "      <th>50%</th>\n",
              "      <td>2.000000</td>\n",
              "    </tr>\n",
              "    <tr>\n",
              "      <th>75%</th>\n",
              "      <td>3.000000</td>\n",
              "    </tr>\n",
              "    <tr>\n",
              "      <th>max</th>\n",
              "      <td>50.000000</td>\n",
              "    </tr>\n",
              "  </tbody>\n",
              "</table>\n",
              "</div>"
            ],
            "text/plain": [
              "       stays_in_week_nights\n",
              "count         119205.000000\n",
              "mean               2.499132\n",
              "std                1.896984\n",
              "min                0.000000\n",
              "25%                1.000000\n",
              "50%                2.000000\n",
              "75%                3.000000\n",
              "max               50.000000"
            ]
          },
          "metadata": {
            "tags": []
          },
          "execution_count": 32
        }
      ]
    },
    {
      "cell_type": "code",
      "metadata": {
        "id": "8QS1J_KgJBla",
        "colab": {
          "base_uri": "https://localhost:8080/"
        },
        "outputId": "ee95f36e-b454-4806-abe0-07b8ace0ceaa"
      },
      "source": [
        "from matplotlib import pyplot\n",
        "stays_in_week_nights=hb_new.stays_in_week_nights\n",
        "def drawHist(stays_in_week_nights):\n",
        "    pyplot.hist(hb_new.stays_in_week_nights, 50)\n",
        "    pyplot.xlabel('Stays In Week Nights')\n",
        "    pyplot.ylabel('Frequency')\n",
        "    pyplot.show()\n",
        "drawHist(stays_in_week_nights)"
      ],
      "execution_count": null,
      "outputs": [
        {
          "output_type": "display_data",
          "data": {
            "image/png": "[encoded data removed]",
            "text/plain": [
              "<Figure size 432x288 with 1 Axes>"
            ]
          },
          "metadata": {
            "tags": [],
            "needs_background": "light"
          }
        }
      ]
    },
    {
      "cell_type": "markdown",
      "metadata": {
        "id": "7jccVW27JBla"
      },
      "source": [
        "<font face=\"timesnewroman\" size=3 color=#A52A2A > Average Daily Rate"
      ]
    },
    {
      "cell_type": "code",
      "metadata": {
        "id": "TQFeGCaDJBla",
        "colab": {
          "base_uri": "https://localhost:8080/"
        },
        "outputId": "0dfe19d2-00ad-4095-c139-d20aa8392732"
      },
      "source": [
        "(pd.DataFrame(hb.adr)).describe()"
      ],
      "execution_count": null,
      "outputs": [
        {
          "output_type": "execute_result",
          "data": {
            "text/html": [
              "<div>\n",
              "<style scoped>\n",
              "    .dataframe tbody tr th:only-of-type {\n",
              "        vertical-align: middle;\n",
              "    }\n",
              "\n",
              "    .dataframe tbody tr th {\n",
              "        vertical-align: top;\n",
              "    }\n",
              "\n",
              "    .dataframe thead th {\n",
              "        text-align: right;\n",
              "    }\n",
              "</style>\n",
              "<table border=\"1\" class=\"dataframe\">\n",
              "  <thead>\n",
              "    <tr style=\"text-align: right;\">\n",
              "      <th></th>\n",
              "      <th>adr</th>\n",
              "    </tr>\n",
              "  </thead>\n",
              "  <tbody>\n",
              "    <tr>\n",
              "      <th>count</th>\n",
              "      <td>119390.000000</td>\n",
              "    </tr>\n",
              "    <tr>\n",
              "      <th>mean</th>\n",
              "      <td>101.831122</td>\n",
              "    </tr>\n",
              "    <tr>\n",
              "      <th>std</th>\n",
              "      <td>50.535790</td>\n",
              "    </tr>\n",
              "    <tr>\n",
              "      <th>min</th>\n",
              "      <td>-6.380000</td>\n",
              "    </tr>\n",
              "    <tr>\n",
              "      <th>25%</th>\n",
              "      <td>69.290000</td>\n",
              "    </tr>\n",
              "    <tr>\n",
              "      <th>50%</th>\n",
              "      <td>94.575000</td>\n",
              "    </tr>\n",
              "    <tr>\n",
              "      <th>75%</th>\n",
              "      <td>126.000000</td>\n",
              "    </tr>\n",
              "    <tr>\n",
              "      <th>max</th>\n",
              "      <td>5400.000000</td>\n",
              "    </tr>\n",
              "  </tbody>\n",
              "</table>\n",
              "</div>"
            ],
            "text/plain": [
              "                 adr\n",
              "count  119390.000000\n",
              "mean      101.831122\n",
              "std        50.535790\n",
              "min        -6.380000\n",
              "25%        69.290000\n",
              "50%        94.575000\n",
              "75%       126.000000\n",
              "max      5400.000000"
            ]
          },
          "metadata": {
            "tags": []
          },
          "execution_count": 34
        }
      ]
    },
    {
      "cell_type": "code",
      "metadata": {
        "id": "OKPSRvP9JBla",
        "colab": {
          "base_uri": "https://localhost:8080/"
        },
        "outputId": "b898ee9b-8ca3-4dfc-a3a9-ddfa3ebdd813"
      },
      "source": [
        "from matplotlib import pyplot\n",
        "adr=hb.adr\n",
        "def drawBox(adr):\n",
        "    pyplot.boxplot([hb_new.adr], labels=['Rating'])\n",
        "    pyplot.title('Average Daily Rate')\n",
        "    pyplot.show()\n",
        "drawBox(adr)"
      ],
      "execution_count": null,
      "outputs": [
        {
          "output_type": "display_data",
          "data": {
            "image/png": "[encoded data removed]",
            "text/plain": [
              "<Figure size 432x288 with 1 Axes>"
            ]
          },
          "metadata": {
            "tags": [],
            "needs_background": "light"
          }
        }
      ]
    },
    {
      "cell_type": "markdown",
      "metadata": {
        "id": "JAkNn4GdJBlb"
      },
      "source": [
        "<font face=\"timesnewroman\" size=3 color=#A52A2A > Number of car parking spaces required by the customer"
      ]
    },
    {
      "cell_type": "code",
      "metadata": {
        "id": "-3CRpwCQJBlb",
        "colab": {
          "base_uri": "https://localhost:8080/"
        },
        "outputId": "2778b3a3-278b-4c53-c8ac-ab7abd65846e"
      },
      "source": [
        "(pd.DataFrame(hb_new.required_car_parking_spaces)).describe()"
      ],
      "execution_count": null,
      "outputs": [
        {
          "output_type": "execute_result",
          "data": {
            "text/html": [
              "<div>\n",
              "<style scoped>\n",
              "    .dataframe tbody tr th:only-of-type {\n",
              "        vertical-align: middle;\n",
              "    }\n",
              "\n",
              "    .dataframe tbody tr th {\n",
              "        vertical-align: top;\n",
              "    }\n",
              "\n",
              "    .dataframe thead th {\n",
              "        text-align: right;\n",
              "    }\n",
              "</style>\n",
              "<table border=\"1\" class=\"dataframe\">\n",
              "  <thead>\n",
              "    <tr style=\"text-align: right;\">\n",
              "      <th></th>\n",
              "      <th>required_car_parking_spaces</th>\n",
              "    </tr>\n",
              "  </thead>\n",
              "  <tbody>\n",
              "    <tr>\n",
              "      <th>count</th>\n",
              "      <td>119205.000000</td>\n",
              "    </tr>\n",
              "    <tr>\n",
              "      <th>mean</th>\n",
              "      <td>0.062556</td>\n",
              "    </tr>\n",
              "    <tr>\n",
              "      <th>std</th>\n",
              "      <td>0.245364</td>\n",
              "    </tr>\n",
              "    <tr>\n",
              "      <th>min</th>\n",
              "      <td>0.000000</td>\n",
              "    </tr>\n",
              "    <tr>\n",
              "      <th>25%</th>\n",
              "      <td>0.000000</td>\n",
              "    </tr>\n",
              "    <tr>\n",
              "      <th>50%</th>\n",
              "      <td>0.000000</td>\n",
              "    </tr>\n",
              "    <tr>\n",
              "      <th>75%</th>\n",
              "      <td>0.000000</td>\n",
              "    </tr>\n",
              "    <tr>\n",
              "      <th>max</th>\n",
              "      <td>8.000000</td>\n",
              "    </tr>\n",
              "  </tbody>\n",
              "</table>\n",
              "</div>"
            ],
            "text/plain": [
              "       required_car_parking_spaces\n",
              "count                119205.000000\n",
              "mean                      0.062556\n",
              "std                       0.245364\n",
              "min                       0.000000\n",
              "25%                       0.000000\n",
              "50%                       0.000000\n",
              "75%                       0.000000\n",
              "max                       8.000000"
            ]
          },
          "metadata": {
            "tags": []
          },
          "execution_count": 36
        }
      ]
    },
    {
      "cell_type": "code",
      "metadata": {
        "id": "YvUrsLXfJBlb",
        "colab": {
          "base_uri": "https://localhost:8080/"
        },
        "outputId": "2f652399-ff29-4fc2-bf62-b420b8666466"
      },
      "source": [
        "from matplotlib import pyplot\n",
        "required_car_parking_spaces=hb_new.required_car_parking_spaces\n",
        "def drawBox(required_car_parking_spaces):\n",
        "    pyplot.boxplot([hb_new.required_car_parking_spaces], labels=['parking spaces'])\n",
        "    pyplot.title('Number of car parking spaces')\n",
        "    pyplot.show()\n",
        "drawBox(required_car_parking_spaces)"
      ],
      "execution_count": null,
      "outputs": [
        {
          "output_type": "display_data",
          "data": {
            "image/png": "[encoded data removed]",
            "text/plain": [
              "<Figure size 432x288 with 1 Axes>"
            ]
          },
          "metadata": {
            "tags": [],
            "needs_background": "light"
          }
        }
      ]
    },
    {
      "cell_type": "code",
      "metadata": {
        "id": "f5Vkmb2qJBlb",
        "colab": {
          "base_uri": "https://localhost:8080/"
        },
        "outputId": "7bbb5b0e-ceee-488a-cf6d-0c15f8492d75"
      },
      "source": [
        "from matplotlib import pyplot\n",
        "required_car_parking_spaces=hb_new.required_car_parking_spaces\n",
        "def drawHist(required_car_parking_spaces):\n",
        "    pyplot.hist(hb_new.required_car_parking_spaces, 10)\n",
        "    pyplot.xlabel('parking spaces')\n",
        "    pyplot.ylabel('Frequency')\n",
        "    pyplot.show()\n",
        "drawHist(required_car_parking_spaces)"
      ],
      "execution_count": null,
      "outputs": [
        {
          "output_type": "display_data",
          "data": {
            "image/png": "[encoded data removed]",
            "text/plain": [
              "<Figure size 432x288 with 1 Axes>"
            ]
          },
          "metadata": {
            "tags": [],
            "needs_background": "light"
          }
        }
      ]
    },
    {
      "cell_type": "markdown",
      "metadata": {
        "id": "SkbFehUFJBlc"
      },
      "source": [
        "<font face=\"timesnewroman\" size=3 color=#A52A2A > Number of special requests made by the customer"
      ]
    },
    {
      "cell_type": "code",
      "metadata": {
        "id": "Cx52LeIrJBlc",
        "colab": {
          "base_uri": "https://localhost:8080/"
        },
        "outputId": "5e4c3a8b-0875-418b-e388-fca54273e029"
      },
      "source": [
        "(pd.DataFrame(hb_new.total_of_special_requests)).describe()"
      ],
      "execution_count": null,
      "outputs": [
        {
          "output_type": "execute_result",
          "data": {
            "text/html": [
              "<div>\n",
              "<style scoped>\n",
              "    .dataframe tbody tr th:only-of-type {\n",
              "        vertical-align: middle;\n",
              "    }\n",
              "\n",
              "    .dataframe tbody tr th {\n",
              "        vertical-align: top;\n",
              "    }\n",
              "\n",
              "    .dataframe thead th {\n",
              "        text-align: right;\n",
              "    }\n",
              "</style>\n",
              "<table border=\"1\" class=\"dataframe\">\n",
              "  <thead>\n",
              "    <tr style=\"text-align: right;\">\n",
              "      <th></th>\n",
              "      <th>total_of_special_requests</th>\n",
              "    </tr>\n",
              "  </thead>\n",
              "  <tbody>\n",
              "    <tr>\n",
              "      <th>count</th>\n",
              "      <td>119205.000000</td>\n",
              "    </tr>\n",
              "    <tr>\n",
              "      <th>mean</th>\n",
              "      <td>0.571511</td>\n",
              "    </tr>\n",
              "    <tr>\n",
              "      <th>std</th>\n",
              "      <td>0.792885</td>\n",
              "    </tr>\n",
              "    <tr>\n",
              "      <th>min</th>\n",
              "      <td>0.000000</td>\n",
              "    </tr>\n",
              "    <tr>\n",
              "      <th>25%</th>\n",
              "      <td>0.000000</td>\n",
              "    </tr>\n",
              "    <tr>\n",
              "      <th>50%</th>\n",
              "      <td>0.000000</td>\n",
              "    </tr>\n",
              "    <tr>\n",
              "      <th>75%</th>\n",
              "      <td>1.000000</td>\n",
              "    </tr>\n",
              "    <tr>\n",
              "      <th>max</th>\n",
              "      <td>5.000000</td>\n",
              "    </tr>\n",
              "  </tbody>\n",
              "</table>\n",
              "</div>"
            ],
            "text/plain": [
              "       total_of_special_requests\n",
              "count              119205.000000\n",
              "mean                    0.571511\n",
              "std                     0.792885\n",
              "min                     0.000000\n",
              "25%                     0.000000\n",
              "50%                     0.000000\n",
              "75%                     1.000000\n",
              "max                     5.000000"
            ]
          },
          "metadata": {
            "tags": []
          },
          "execution_count": 39
        }
      ]
    },
    {
      "cell_type": "code",
      "metadata": {
        "id": "C62jeJxvJBlc",
        "colab": {
          "base_uri": "https://localhost:8080/"
        },
        "outputId": "9271b1e3-4bdb-4468-81a9-29de5753f0e9"
      },
      "source": [
        "from matplotlib import pyplot\n",
        "total_of_special_requests=hb_new.total_of_special_requests\n",
        "def drawBox(total_of_special_requests):\n",
        "    pyplot.boxplot([hb_new.total_of_special_requests], labels=['Reuqests'])\n",
        "    pyplot.title('Number of special requests made by the customer')\n",
        "    pyplot.show()\n",
        "drawBox(total_of_special_requests)"
      ],
      "execution_count": null,
      "outputs": [
        {
          "output_type": "display_data",
          "data": {
            "image/png": "[encoded data removed]",
            "text/plain": [
              "<Figure size 432x288 with 1 Axes>"
            ]
          },
          "metadata": {
            "tags": [],
            "needs_background": "light"
          }
        }
      ]
    },
    {
      "cell_type": "markdown",
      "metadata": {
        "id": "PmzvZyEXdnW9"
      },
      "source": [
        "# **Visualization**"
      ]
    },
    {
      "cell_type": "code",
      "metadata": {
        "id": "X8l82G5pdqOu"
      },
      "source": [
        "import matplotlib.pyplot as plt\n",
        "import seaborn as sns\n",
        "import folium\n",
        "from folium.plugins import HeatMap\n",
        "import plotly \n",
        "import plotly.express as px\n",
        "import plotly.graph_objs as go\n",
        "from plotly.offline import iplot, init_notebook_mode\n",
        "import cufflinks as cf"
      ],
      "execution_count": null,
      "outputs": []
    },
    {
      "cell_type": "markdown",
      "metadata": {
        "id": "RqIZlkvZovP9"
      },
      "source": [
        "### Cancellation Situation"
      ]
    },
    {
      "cell_type": "code",
      "metadata": {
        "colab": {
          "base_uri": "https://localhost:8080/"
        },
        "id": "CL3KiF7foVMU",
        "outputId": "1f25d04d-eecd-42b5-8e11-e4b852380241"
      },
      "source": [
        "hotel_eda = hb_new.copy()\n",
        "hotel_eda['hotel'].value_counts()"
      ],
      "execution_count": null,
      "outputs": [
        {
          "output_type": "execute_result",
          "data": {
            "text/plain": [
              "City Hotel      79160\n",
              "Resort Hotel    40045\n",
              "Name: hotel, dtype: int64"
            ]
          },
          "metadata": {
            "tags": []
          },
          "execution_count": 42
        }
      ]
    },
    {
      "cell_type": "code",
      "metadata": {
        "colab": {
          "base_uri": "https://localhost:8080/",
          "height": 320
        },
        "id": "ktkHJx9pdqbu",
        "outputId": "e6be23c2-e009-4306-878f-c41c1b01c306"
      },
      "source": [
        "plt.figure(figsize=(18,6))\n",
        "sns.countplot(x='is_canceled', hue = 'hotel', data= hotel_eda)\n",
        "plt.title('Cancellation Situation')\n",
        "plt.show()"
      ],
      "execution_count": null,
      "outputs": [
        {
          "output_type": "display_data",
          "data": {
            "image/png": "[encoded data removed]",
            "text/plain": [
              "<Figure size 1296x432 with 1 Axes>"
            ]
          },
          "metadata": {
            "tags": [],
            "needs_background": "light"
          }
        }
      ]
    },
    {
      "cell_type": "code",
      "metadata": {
        "colab": {
          "base_uri": "https://localhost:8080/"
        },
        "id": "1z6cmU6mp9fF",
        "outputId": "05d70cb7-fcd8-4c85-84ff-cfae45fc9a60"
      },
      "source": [
        "hotel_eda['is_canceled'].value_counts()/hb_new.shape[0]*100"
      ],
      "execution_count": null,
      "outputs": [
        {
          "output_type": "execute_result",
          "data": {
            "text/plain": [
              "0    62.923535\n",
              "1    37.076465\n",
              "Name: is_canceled, dtype: float64"
            ]
          },
          "metadata": {
            "tags": []
          },
          "execution_count": 44
        }
      ]
    },
    {
      "cell_type": "markdown",
      "metadata": {
        "id": "weSuihO2qIPI"
      },
      "source": [
        "The cancel rate of the hotel is 37.04%, the rate of not cancel is 62.96%."
      ]
    },
    {
      "cell_type": "markdown",
      "metadata": {
        "id": "zf8ySixAqp7Z"
      },
      "source": [
        "### Booking rate"
      ]
    },
    {
      "cell_type": "code",
      "metadata": {
        "id": "PmBJ8OpBrjJg"
      },
      "source": [
        "import matplotlib.pyplot as plt\n",
        "import seaborn as sns\n",
        "import matplotlib.ticker as mtick"
      ],
      "execution_count": null,
      "outputs": []
    },
    {
      "cell_type": "code",
      "metadata": {
        "id": "GqX__aZeqfY6"
      },
      "source": [
        "def get_count(series, limit=None):\n",
        "    \n",
        "    '''\n",
        "    INPUT:\n",
        "        series: Pandas Series (Single Column from DataFrame)\n",
        "        limit:  If value given, limit the output value to first limit samples.\n",
        "    OUTPUT:\n",
        "        x = Unique values\n",
        "        y = Count of unique values\n",
        "    '''\n",
        "    \n",
        "    if limit != None:\n",
        "        series = series.value_counts()[:limit]\n",
        "    else:\n",
        "        series = series.value_counts()\n",
        "    \n",
        "    x = series.index\n",
        "    y = series/series.sum()*100\n",
        "    \n",
        "    return x.values,y.values\n"
      ],
      "execution_count": null,
      "outputs": []
    },
    {
      "cell_type": "code",
      "metadata": {
        "id": "vm7agov8rWlV"
      },
      "source": [
        "def plot(x, y, x_label=None,y_label=None, title=None, figsize=(7,5), type='bar'):\n",
        "    \n",
        "    '''\n",
        "    INPUT:\n",
        "        x:        Array containing values for x-axis\n",
        "        y:        Array containing values for y-axis\n",
        "        x_lable:  String value for x-axis label\n",
        "        y_lable:  String value for y-axis label\n",
        "        title:    String value for plot title\n",
        "        figsize:  tuple value, for figure size\n",
        "        type:     type of plot (default is bar plot)\n",
        "        \n",
        "    OUTPUT:\n",
        "        Display the plot\n",
        "    '''\n",
        "    \n",
        "    sns.set_style('darkgrid')\n",
        "    \n",
        "    fig, ax = plt.subplots(figsize=figsize)\n",
        "    \n",
        "    ax.yaxis.set_major_formatter(mtick.PercentFormatter())\n",
        "    \n",
        "    if x_label != None:\n",
        "        ax.set_xlabel(x_label)\n",
        "    \n",
        "    if y_label != None:\n",
        "        ax.set_ylabel(y_label)\n",
        "        \n",
        "    if title != None:\n",
        "        ax.set_title(title)\n",
        "    \n",
        "    if type == 'bar':\n",
        "        sns.barplot(x,y, ax = ax)\n",
        "    elif type == 'line':\n",
        "        sns.lineplot(x,y, ax = ax, sort=False)\n",
        "        \n",
        "    \n",
        "    plt.show()"
      ],
      "execution_count": null,
      "outputs": []
    },
    {
      "cell_type": "code",
      "metadata": {
        "colab": {
          "base_uri": "https://localhost:8080/",
          "height": 438
        },
        "id": "BuX_zisjrOGC",
        "outputId": "87dfa004-8067-4e62-c722-101f9d742411"
      },
      "source": [
        "df_not_canceled = hb_new[hb_new['is_canceled'] == 0]\n",
        "x,y = get_count(df_not_canceled['hotel'])\n",
        "plot(x,y, x_label='Hotels', y_label='Total Booking (%)', title='Hotel comparison')"
      ],
      "execution_count": null,
      "outputs": [
        {
          "output_type": "stream",
          "text": [
            "/usr/local/lib/python3.7/dist-packages/seaborn/_decorators.py:43: FutureWarning:\n",
            "\n",
            "Pass the following variables as keyword args: x, y. From version 0.12, the only valid positional argument will be `data`, and passing other arguments without an explicit keyword will result in an error or misinterpretation.\n",
            "\n"
          ],
          "name": "stderr"
        },
        {
          "output_type": "display_data",
          "data": {
            "image/png": "[encoded data removed]",
            "text/plain": [
              "<Figure size 504x360 with 1 Axes>"
            ]
          },
          "metadata": {
            "tags": []
          }
        }
      ]
    },
    {
      "cell_type": "markdown",
      "metadata": {
        "id": "yPZjWt5skpVq"
      },
      "source": [
        "### Monthly cancellations and customer by hotel types"
      ]
    },
    {
      "cell_type": "code",
      "metadata": {
        "colab": {
          "base_uri": "https://localhost:8080/",
          "height": 632
        },
        "id": "kZeP8QB4ko0v",
        "outputId": "41b37798-2723-4685-e234-7f98569013bc"
      },
      "source": [
        "plt.figure(figsize =(13,10))\n",
        "sns.set(style=\"darkgrid\")\n",
        "plt.title(\"Total Customers - Monthly \", fontdict={'fontsize': 20})\n",
        "ax = sns.countplot(x = \"arrival_date_month\", hue = 'hotel', data = hb_new)"
      ],
      "execution_count": null,
      "outputs": [
        {
          "output_type": "display_data",
          "data": {
            "image/png": "[encoded data removed]",
            "text/plain": [
              "<Figure size 936x720 with 1 Axes>"
            ]
          },
          "metadata": {
            "tags": []
          }
        }
      ]
    },
    {
      "cell_type": "code",
      "metadata": {
        "colab": {
          "base_uri": "https://localhost:8080/",
          "height": 649
        },
        "id": "AC8fj1lGkyji",
        "outputId": "0be7efde-729b-4213-f186-1d4d67ef11c2"
      },
      "source": [
        "plt.figure(figsize = (13,10))\n",
        "sns.barplot(x = 'arrival_date_month', y = 'is_canceled', data = hb_new);\n",
        "plt.title('Monthly Cancellation Rate', fontdict={'fontsize': 20})"
      ],
      "execution_count": null,
      "outputs": [
        {
          "output_type": "execute_result",
          "data": {
            "text/plain": [
              "Text(0.5, 1.0, 'Monthly Cancellation Rate')"
            ]
          },
          "metadata": {
            "tags": []
          },
          "execution_count": 50
        },
        {
          "output_type": "display_data",
          "data": {
            "image/png": "[encoded data removed]",
            "text/plain": [
              "<Figure size 936x720 with 1 Axes>"
            ]
          },
          "metadata": {
            "tags": []
          }
        }
      ]
    },
    {
      "cell_type": "code",
      "metadata": {
        "colab": {
          "base_uri": "https://localhost:8080/",
          "height": 472
        },
        "id": "fPzxbq4_lIlF",
        "outputId": "6b43e8e0-46ee-4be9-86cb-4d6eb9a4d38c"
      },
      "source": [
        "plt.figure(figsize = (20,10))\n",
        "sns.barplot(x = 'arrival_date_month', y = 'is_canceled', hue = 'hotel', data = hb_new);\n",
        "plt.title('Monthly Cancellation Rate by Hotel', fontdict={'fontsize': 20})"
      ],
      "execution_count": null,
      "outputs": [
        {
          "output_type": "execute_result",
          "data": {
            "text/plain": [
              "Text(0.5, 1.0, 'Monthly Cancellation Rate by Hotel')"
            ]
          },
          "metadata": {
            "tags": []
          },
          "execution_count": 51
        },
        {
          "output_type": "display_data",
          "data": {
            "image/png": "[encoded data removed]",
            "text/plain": [
              "<Figure size 1440x720 with 1 Axes>"
            ]
          },
          "metadata": {
            "tags": []
          }
        }
      ]
    },
    {
      "cell_type": "markdown",
      "metadata": {
        "id": "6iN6aidFrwkj"
      },
      "source": [
        "### Percentage of booking per year"
      ]
    },
    {
      "cell_type": "code",
      "metadata": {
        "colab": {
          "base_uri": "https://localhost:8080/",
          "height": 443
        },
        "id": "SdFNvifir1Es",
        "outputId": "814e89ba-dcb1-4f21-e1a1-5ac01c038a94"
      },
      "source": [
        "x,y = get_count(df_not_canceled['arrival_date_year'])\n",
        "plot(x,y, x_label='Year', y_label='Total Booking (%)', title='Year comparison')"
      ],
      "execution_count": null,
      "outputs": [
        {
          "output_type": "stream",
          "text": [
            "/usr/local/lib/python3.7/dist-packages/seaborn/_decorators.py:43: FutureWarning:\n",
            "\n",
            "Pass the following variables as keyword args: x, y. From version 0.12, the only valid positional argument will be `data`, and passing other arguments without an explicit keyword will result in an error or misinterpretation.\n",
            "\n"
          ],
          "name": "stderr"
        },
        {
          "output_type": "display_data",
          "data": {
            "image/png": "[encoded data removed]",
            "text/plain": [
              "<Figure size 504x360 with 1 Axes>"
            ]
          },
          "metadata": {
            "tags": []
          }
        }
      ]
    },
    {
      "cell_type": "markdown",
      "metadata": {
        "id": "NHtFfpJKsfkh"
      },
      "source": [
        "### Busiest month"
      ]
    },
    {
      "cell_type": "code",
      "metadata": {
        "colab": {
          "base_uri": "https://localhost:8080/",
          "height": 483
        },
        "id": "HjMopoKosil3",
        "outputId": "66bcfabe-9d2e-4552-d132-de54b5303f1c"
      },
      "source": [
        "## Order of months\n",
        "new_order = ['January', 'February', 'March', 'April', 'May', 'June', 'July', 'August', 'September', 'October', \n",
        "             'November', 'December']\n",
        "\n",
        "\n",
        "## Select only City Hotel\n",
        "sorted_months = df_not_canceled.loc[hb_new.hotel=='City Hotel' ,'arrival_date_month'].value_counts().reindex(new_order)\n",
        "\n",
        "x1 = sorted_months.index\n",
        "y1 = sorted_months/sorted_months.sum()*100\n",
        "\n",
        "\n",
        "\n",
        "## Select only Resort Hotel\n",
        "sorted_months = df_not_canceled.loc[hb_new.hotel=='Resort Hotel' ,'arrival_date_month'].value_counts().reindex(new_order)\n",
        "\n",
        "x2 = sorted_months.index\n",
        "y2 = sorted_months/sorted_months.sum()*100\n",
        "\n",
        "\n",
        "\n",
        "\n",
        "\n",
        "\n",
        "## Draw the line plot\n",
        "\n",
        "fig, ax = plt.subplots(figsize=(18,6))\n",
        "\n",
        "ax.set_xlabel('Months')\n",
        "ax.set_ylabel('Booking (%)')\n",
        "ax.set_title('Booking Trend (Monthly)')\n",
        "\n",
        "\n",
        "sns.lineplot(x1, y1.values, label='City Hotel', sort=False)\n",
        "sns.lineplot(x1, y2.values, label='Resort Hotel', sort=False)\n",
        "\n",
        "plt.show()"
      ],
      "execution_count": null,
      "outputs": [
        {
          "output_type": "stream",
          "text": [
            "/usr/local/lib/python3.7/dist-packages/seaborn/_decorators.py:43: FutureWarning:\n",
            "\n",
            "Pass the following variables as keyword args: x, y. From version 0.12, the only valid positional argument will be `data`, and passing other arguments without an explicit keyword will result in an error or misinterpretation.\n",
            "\n",
            "/usr/local/lib/python3.7/dist-packages/seaborn/_decorators.py:43: FutureWarning:\n",
            "\n",
            "Pass the following variables as keyword args: x, y. From version 0.12, the only valid positional argument will be `data`, and passing other arguments without an explicit keyword will result in an error or misinterpretation.\n",
            "\n"
          ],
          "name": "stderr"
        },
        {
          "output_type": "display_data",
          "data": {
            "image/png": "[encoded data removed]",
            "text/plain": [
              "<Figure size 1296x432 with 1 Axes>"
            ]
          },
          "metadata": {
            "tags": []
          }
        }
      ]
    },
    {
      "cell_type": "markdown",
      "metadata": {
        "id": "V_z7kRnxs4dP"
      },
      "source": [
        "### Country of customers"
      ]
    },
    {
      "cell_type": "code",
      "metadata": {
        "colab": {
          "base_uri": "https://localhost:8080/",
          "height": 324
        },
        "id": "Idt8V-xctCTC",
        "outputId": "8df2abc6-2bce-41cb-8a26-1dd13689f711"
      },
      "source": [
        "plt.figure(figsize=(18,6))\n",
        "country_booking = hb_new['country'].value_counts(normalize=True).rename_axis('country').reset_index(name='Percentage')\n",
        "sns.barplot(x='country', y='Percentage', data=country_booking.head(10))\n",
        "plt.title('Country of Customers')\n",
        "plt.show()"
      ],
      "execution_count": null,
      "outputs": [
        {
          "output_type": "display_data",
          "data": {
            "image/png": "[encoded data removed]",
            "text/plain": [
              "<Figure size 1296x432 with 1 Axes>"
            ]
          },
          "metadata": {
            "tags": []
          }
        }
      ]
    },
    {
      "cell_type": "markdown",
      "metadata": {
        "id": "AgGRomE0tv01"
      },
      "source": [
        "### How long people stay"
      ]
    },
    {
      "cell_type": "code",
      "metadata": {
        "colab": {
          "base_uri": "https://localhost:8080/",
          "height": 443
        },
        "id": "kpWT3jIaty7-",
        "outputId": "c516c2b2-0101-4874-f794-918fd47bfaa7"
      },
      "source": [
        "total_nights = df_not_canceled['stays_in_weekend_nights']+ df_not_canceled['stays_in_week_nights']\n",
        "x,y = get_count(total_nights, limit=10)\n",
        "\n",
        "plot(x,y, x_label='Number of Nights', y_label='Booking Percentage (%)', title='Night Stay Duration (Top 10)', figsize=(10,5))\n"
      ],
      "execution_count": null,
      "outputs": [
        {
          "output_type": "stream",
          "text": [
            "/usr/local/lib/python3.7/dist-packages/seaborn/_decorators.py:43: FutureWarning:\n",
            "\n",
            "Pass the following variables as keyword args: x, y. From version 0.12, the only valid positional argument will be `data`, and passing other arguments without an explicit keyword will result in an error or misinterpretation.\n",
            "\n"
          ],
          "name": "stderr"
        },
        {
          "output_type": "display_data",
          "data": {
            "image/png": "[encoded data removed]",
            "text/plain": [
              "<Figure size 720x360 with 1 Axes>"
            ]
          },
          "metadata": {
            "tags": []
          }
        }
      ]
    },
    {
      "cell_type": "markdown",
      "metadata": {
        "id": "_HoO_nxuuMIp"
      },
      "source": [
        "### Accomodation type"
      ]
    },
    {
      "cell_type": "code",
      "metadata": {
        "colab": {
          "base_uri": "https://localhost:8080/",
          "height": 535
        },
        "id": "CPhwdao-t_iz",
        "outputId": "91c5758c-4463-492c-d3cc-43664bda0e83"
      },
      "source": [
        "## Select single, couple, multiple adults and family\n",
        "single   = df_not_canceled[(df_not_canceled.adults==1) & (df_not_canceled.children==0) & (df_not_canceled.babies==0)]\n",
        "couple   = df_not_canceled[(df_not_canceled.adults==2) & (df_not_canceled.children==0) & (df_not_canceled.babies==0)]\n",
        "family   = df_not_canceled[df_not_canceled.adults + df_not_canceled.children + df_not_canceled.babies > 2]\n",
        "\n",
        "\n",
        "## Make the list of Category names, and their total percentage\n",
        "names = ['Single', 'Couple (No Children)', 'Family / Friends']\n",
        "count = [single.shape[0],couple.shape[0], family.shape[0]]\n",
        "count_percent = [x/df_not_canceled.shape[0]*100 for x in count]\n",
        "\n",
        "\n",
        "## Draw the curve\n",
        "plot(names,count_percent,  y_label='Booking (%)', title='Accommodation Type', figsize=(10,7))\n"
      ],
      "execution_count": null,
      "outputs": [
        {
          "output_type": "stream",
          "text": [
            "/usr/local/lib/python3.7/dist-packages/seaborn/_decorators.py:43: FutureWarning:\n",
            "\n",
            "Pass the following variables as keyword args: x, y. From version 0.12, the only valid positional argument will be `data`, and passing other arguments without an explicit keyword will result in an error or misinterpretation.\n",
            "\n"
          ],
          "name": "stderr"
        },
        {
          "output_type": "display_data",
          "data": {
            "image/png": "[encoded data removed]",
            "text/plain": [
              "<Figure size 720x504 with 1 Axes>"
            ]
          },
          "metadata": {
            "tags": []
          }
        }
      ]
    },
    {
      "cell_type": "markdown",
      "metadata": {
        "id": "jf4vWgvluQfK"
      },
      "source": [
        "### Customer type"
      ]
    },
    {
      "cell_type": "code",
      "metadata": {
        "colab": {
          "base_uri": "https://localhost:8080/",
          "height": 430
        },
        "id": "K2x41RM8t6o5",
        "outputId": "ad858505-010a-48d9-a245-4e281bd09e75"
      },
      "source": [
        "plt.figure(figsize=(18,6))\n",
        "sns.countplot(x='customer_type', data= hb_new)\n",
        "plt.title('Customer Type')\n",
        "plt.show()"
      ],
      "execution_count": null,
      "outputs": [
        {
          "output_type": "display_data",
          "data": {
            "image/png": "[encoded data removed]",
            "text/plain": [
              "<Figure size 1296x432 with 1 Axes>"
            ]
          },
          "metadata": {
            "tags": []
          }
        }
      ]
    },
    {
      "cell_type": "markdown",
      "metadata": {
        "id": "EJFgunBRudek"
      },
      "source": [
        "Type of booking, assuming one of four categories:\n",
        "\n",
        "Contract, when the booking has an allotment or other type of contract associated to it.\n",
        "\n",
        "Group, when the booking is associated to a group.\n",
        "\n",
        "Transient, when the booking is not part of a group or contract, and is not associated to other transient booking.\n",
        "\n",
        "Transient-party, when the booking is transient, but is associated to at least other transient booking.\n",
        "\n",
        "From the graph:\n",
        "\n",
        "Transient as much as 75.05%.\n",
        "\n",
        "Transient-party as much as 21.04%.\n",
        "\n",
        "Contract as much as 3.41%.\n",
        "\n",
        "Group as much as 0.48%.\n",
        "\n",
        "Most of customers is Transient, means they are walk-in guests, last-minute or bookers, or simply people that require a very short-term stay in your facility. Transient customers are one of the major market segments consist of individuals or groups."
      ]
    },
    {
      "cell_type": "markdown",
      "metadata": {
        "id": "7JBwTqSOjxIV"
      },
      "source": [
        "### Distribution of nights spent at hotels by market segment and hotel type"
      ]
    },
    {
      "cell_type": "markdown",
      "metadata": {
        "id": "W6ctqbv4kLGV"
      },
      "source": [
        "weekdays"
      ]
    },
    {
      "cell_type": "code",
      "metadata": {
        "colab": {
          "base_uri": "https://localhost:8080/",
          "height": 606
        },
        "id": "BQIImZgTjwVA",
        "outputId": "82bca74a-642c-4fef-c705-985a1159a9b5"
      },
      "source": [
        "plt.figure(figsize = (15,10))\n",
        "sns.boxplot(x = \"market_segment\", y = \"stays_in_week_nights\", data = hb_new, hue = \"hotel\", palette = 'Set1')\n",
        "plt.title('Weekdays')"
      ],
      "execution_count": null,
      "outputs": [
        {
          "output_type": "execute_result",
          "data": {
            "text/plain": [
              "Text(0.5, 1.0, 'Weekdays')"
            ]
          },
          "metadata": {
            "tags": []
          },
          "execution_count": 58
        },
        {
          "output_type": "display_data",
          "data": {
            "image/png": "[encoded data removed]",
            "text/plain": [
              "<Figure size 1080x720 with 1 Axes>"
            ]
          },
          "metadata": {
            "tags": []
          }
        }
      ]
    },
    {
      "cell_type": "markdown",
      "metadata": {
        "id": "sJTHJ-wTkOOQ"
      },
      "source": [
        "weekends"
      ]
    },
    {
      "cell_type": "code",
      "metadata": {
        "colab": {
          "base_uri": "https://localhost:8080/",
          "height": 599
        },
        "id": "zoMiKOeRkEJ2",
        "outputId": "7275c4a3-60bc-4b10-ff82-d763325c580f"
      },
      "source": [
        "plt.figure(figsize=(15,10))\n",
        "sns.boxplot(x = \"market_segment\", y = \"stays_in_weekend_nights\", data = hb_new, hue = \"hotel\", palette = 'Set1')\n",
        "plt.title('Weekends')"
      ],
      "execution_count": null,
      "outputs": [
        {
          "output_type": "execute_result",
          "data": {
            "text/plain": [
              "Text(0.5, 1.0, 'Weekends')"
            ]
          },
          "metadata": {
            "tags": []
          },
          "execution_count": 59
        },
        {
          "output_type": "display_data",
          "data": {
            "image/png": "[encoded data removed]",
            "text/plain": [
              "<Figure size 1080x720 with 1 Axes>"
            ]
          },
          "metadata": {
            "tags": []
          }
        }
      ]
    },
    {
      "cell_type": "markdown",
      "metadata": {
        "id": "6XFnlnzIlZ1b"
      },
      "source": [
        "# **Feature engineering**"
      ]
    },
    {
      "cell_type": "code",
      "metadata": {
        "id": "6Ci88FMyldq5"
      },
      "source": [
        "hb_new['hotel'] = hb_new['hotel'].map({'Resort Hotel':0, 'City Hotel':1})\n",
        "\n",
        "hb_new['arrival_date_month'] = hb_new['arrival_date_month'].map({'January':1, 'February': 2, 'March':3, 'April':4, 'May':5, 'June':6, 'July':7,\n",
        "                                                            'August':8, 'September':9, 'October':10, 'November':11, 'December':12})"
      ],
      "execution_count": null,
      "outputs": []
    },
    {
      "cell_type": "code",
      "metadata": {
        "id": "mZOefD5vlqU_"
      },
      "source": [
        "def family(hb_new):\n",
        "    if ((hb_new['adults'] > 0) & (hb_new['children'] > 0)):\n",
        "        val = 1\n",
        "    elif ((hb_new['adults'] > 0) & (hb_new['babies'] > 0)):\n",
        "        val = 1\n",
        "    else:\n",
        "        val = 0\n",
        "    return val\n",
        "\n",
        "def deposit(hb_new):\n",
        "    if ((hb_new['deposit_type'] == 'No Deposit') | (hb_new['deposit_type'] == 'Refundable')):\n",
        "        return 0\n",
        "    else:\n",
        "        return 1"
      ],
      "execution_count": null,
      "outputs": []
    },
    {
      "cell_type": "code",
      "metadata": {
        "id": "TKAcm7ZeluYz"
      },
      "source": [
        "def feature(hb_new):\n",
        "    hb_new[\"is_family\"] = hb_new.apply(family, axis = 1)\n",
        "    hb_new[\"total_customer\"] = hb_new[\"adults\"] + hb_new[\"children\"] + hb_new[\"babies\"]\n",
        "    hb_new[\"deposit_given\"] = hb_new.apply(deposit, axis=1)\n",
        "    hb_new[\"total_nights\"] = hb_new[\"stays_in_weekend_nights\"]+ hb_new[\"stays_in_week_nights\"]\n",
        "    return hb_new\n",
        "\n",
        "hb_new = feature(hb_new)"
      ],
      "execution_count": null,
      "outputs": []
    },
    {
      "cell_type": "code",
      "metadata": {
        "id": "jey514kumF6a"
      },
      "source": [
        "hb_new = hb_new.drop(columns = ['adults', 'babies', 'children', 'deposit_type', 'reservation_status_date'])"
      ],
      "execution_count": null,
      "outputs": []
    },
    {
      "cell_type": "code",
      "metadata": {
        "id": "VrTCdtVzmTfT"
      },
      "source": [
        "cor_data = hb_new.copy()"
      ],
      "execution_count": null,
      "outputs": []
    },
    {
      "cell_type": "code",
      "metadata": {
        "id": "_Obvhk4rmZ3K"
      },
      "source": [
        "from sklearn.preprocessing import LabelEncoder, StandardScaler\n",
        "le = LabelEncoder()\n",
        "cor_data['meal'] = le.fit_transform(cor_data['meal'])\n",
        "cor_data['distribution_channel'] = le.fit_transform(cor_data['distribution_channel'])\n",
        "cor_data['reserved_room_type'] = le.fit_transform(cor_data['reserved_room_type'])\n",
        "cor_data['assigned_room_type'] = le.fit_transform(cor_data['assigned_room_type'])\n",
        "cor_data['agent'] = le.fit_transform(cor_data['agent'])\n",
        "cor_data['customer_type'] = le.fit_transform(cor_data['customer_type'])\n",
        "cor_data['reservation_status'] = le.fit_transform(cor_data['reservation_status'])\n",
        "cor_data['market_segment'] = le.fit_transform(cor_data['market_segment'])"
      ],
      "execution_count": null,
      "outputs": []
    },
    {
      "cell_type": "code",
      "metadata": {
        "colab": {
          "base_uri": "https://localhost:8080/",
          "height": 968
        },
        "id": "kDA170t1nbrS",
        "outputId": "75f27e4b-a833-4177-a10a-d159b1a6ac91"
      },
      "source": [
        "cor_data.corr()"
      ],
      "execution_count": null,
      "outputs": [
        {
          "output_type": "execute_result",
          "data": {
            "text/html": [
              "<div>\n",
              "<style scoped>\n",
              "    .dataframe tbody tr th:only-of-type {\n",
              "        vertical-align: middle;\n",
              "    }\n",
              "\n",
              "    .dataframe tbody tr th {\n",
              "        vertical-align: top;\n",
              "    }\n",
              "\n",
              "    .dataframe thead th {\n",
              "        text-align: right;\n",
              "    }\n",
              "</style>\n",
              "<table border=\"1\" class=\"dataframe\">\n",
              "  <thead>\n",
              "    <tr style=\"text-align: right;\">\n",
              "      <th></th>\n",
              "      <th>hotel</th>\n",
              "      <th>is_canceled</th>\n",
              "      <th>lead_time</th>\n",
              "      <th>arrival_date_year</th>\n",
              "      <th>arrival_date_month</th>\n",
              "      <th>arrival_date_week_number</th>\n",
              "      <th>arrival_date_day_of_month</th>\n",
              "      <th>stays_in_weekend_nights</th>\n",
              "      <th>stays_in_week_nights</th>\n",
              "      <th>meal</th>\n",
              "      <th>market_segment</th>\n",
              "      <th>distribution_channel</th>\n",
              "      <th>is_repeated_guest</th>\n",
              "      <th>previous_cancellations</th>\n",
              "      <th>previous_bookings_not_canceled</th>\n",
              "      <th>reserved_room_type</th>\n",
              "      <th>assigned_room_type</th>\n",
              "      <th>booking_changes</th>\n",
              "      <th>agent</th>\n",
              "      <th>days_in_waiting_list</th>\n",
              "      <th>customer_type</th>\n",
              "      <th>adr</th>\n",
              "      <th>required_car_parking_spaces</th>\n",
              "      <th>total_of_special_requests</th>\n",
              "      <th>reservation_status</th>\n",
              "      <th>is_family</th>\n",
              "      <th>total_customer</th>\n",
              "      <th>deposit_given</th>\n",
              "      <th>total_nights</th>\n",
              "    </tr>\n",
              "  </thead>\n",
              "  <tbody>\n",
              "    <tr>\n",
              "      <th>hotel</th>\n",
              "      <td>1.000000</td>\n",
              "      <td>0.137096</td>\n",
              "      <td>0.075990</td>\n",
              "      <td>0.035185</td>\n",
              "      <td>0.001770</td>\n",
              "      <td>0.001239</td>\n",
              "      <td>-0.001698</td>\n",
              "      <td>-0.187761</td>\n",
              "      <td>-0.235901</td>\n",
              "      <td>0.007276</td>\n",
              "      <td>0.084117</td>\n",
              "      <td>0.174980</td>\n",
              "      <td>-0.052468</td>\n",
              "      <td>-0.012262</td>\n",
              "      <td>-0.004452</td>\n",
              "      <td>-0.250479</td>\n",
              "      <td>-0.312828</td>\n",
              "      <td>-0.076563</td>\n",
              "      <td>-0.649268</td>\n",
              "      <td>0.072726</td>\n",
              "      <td>0.047683</td>\n",
              "      <td>0.102756</td>\n",
              "      <td>-0.218968</td>\n",
              "      <td>-0.043476</td>\n",
              "      <td>-0.124811</td>\n",
              "      <td>-0.058106</td>\n",
              "      <td>-0.038832</td>\n",
              "      <td>0.172404</td>\n",
              "      <td>-0.249690</td>\n",
              "    </tr>\n",
              "    <tr>\n",
              "      <th>is_canceled</th>\n",
              "      <td>0.137096</td>\n",
              "      <td>1.000000</td>\n",
              "      <td>0.292893</td>\n",
              "      <td>0.016638</td>\n",
              "      <td>0.011179</td>\n",
              "      <td>0.008313</td>\n",
              "      <td>-0.005969</td>\n",
              "      <td>-0.001326</td>\n",
              "      <td>0.025516</td>\n",
              "      <td>-0.017226</td>\n",
              "      <td>0.059407</td>\n",
              "      <td>0.167682</td>\n",
              "      <td>-0.083721</td>\n",
              "      <td>0.110142</td>\n",
              "      <td>-0.057358</td>\n",
              "      <td>-0.062225</td>\n",
              "      <td>-0.175833</td>\n",
              "      <td>-0.144857</td>\n",
              "      <td>-0.046994</td>\n",
              "      <td>0.054303</td>\n",
              "      <td>-0.068152</td>\n",
              "      <td>0.047578</td>\n",
              "      <td>-0.195705</td>\n",
              "      <td>-0.234888</td>\n",
              "      <td>-0.917239</td>\n",
              "      <td>-0.013220</td>\n",
              "      <td>0.044933</td>\n",
              "      <td>0.481501</td>\n",
              "      <td>0.018533</td>\n",
              "    </tr>\n",
              "    <tr>\n",
              "      <th>lead_time</th>\n",
              "      <td>0.075990</td>\n",
              "      <td>0.292893</td>\n",
              "      <td>1.000000</td>\n",
              "      <td>0.040307</td>\n",
              "      <td>0.131609</td>\n",
              "      <td>0.127053</td>\n",
              "      <td>0.002313</td>\n",
              "      <td>0.085982</td>\n",
              "      <td>0.166899</td>\n",
              "      <td>0.001413</td>\n",
              "      <td>0.013271</td>\n",
              "      <td>0.220225</td>\n",
              "      <td>-0.123270</td>\n",
              "      <td>0.086025</td>\n",
              "      <td>-0.073612</td>\n",
              "      <td>-0.105985</td>\n",
              "      <td>-0.171271</td>\n",
              "      <td>0.002243</td>\n",
              "      <td>-0.012434</td>\n",
              "      <td>0.170008</td>\n",
              "      <td>0.073289</td>\n",
              "      <td>-0.067643</td>\n",
              "      <td>-0.116629</td>\n",
              "      <td>-0.095950</td>\n",
              "      <td>-0.301959</td>\n",
              "      <td>-0.044216</td>\n",
              "      <td>0.070572</td>\n",
              "      <td>0.380147</td>\n",
              "      <td>0.158301</td>\n",
              "    </tr>\n",
              "    <tr>\n",
              "      <th>arrival_date_year</th>\n",
              "      <td>0.035185</td>\n",
              "      <td>0.016638</td>\n",
              "      <td>0.040307</td>\n",
              "      <td>1.000000</td>\n",
              "      <td>-0.527545</td>\n",
              "      <td>-0.540381</td>\n",
              "      <td>-0.000121</td>\n",
              "      <td>0.021719</td>\n",
              "      <td>0.031230</td>\n",
              "      <td>0.065639</td>\n",
              "      <td>0.107908</td>\n",
              "      <td>0.022643</td>\n",
              "      <td>0.010222</td>\n",
              "      <td>-0.119911</td>\n",
              "      <td>0.029220</td>\n",
              "      <td>0.092909</td>\n",
              "      <td>0.035735</td>\n",
              "      <td>0.031451</td>\n",
              "      <td>0.053798</td>\n",
              "      <td>-0.056352</td>\n",
              "      <td>-0.006281</td>\n",
              "      <td>0.208549</td>\n",
              "      <td>-0.013818</td>\n",
              "      <td>0.108618</td>\n",
              "      <td>-0.017597</td>\n",
              "      <td>0.052901</td>\n",
              "      <td>0.053267</td>\n",
              "      <td>-0.065982</td>\n",
              "      <td>0.031826</td>\n",
              "    </tr>\n",
              "    <tr>\n",
              "      <th>arrival_date_month</th>\n",
              "      <td>0.001770</td>\n",
              "      <td>0.011179</td>\n",
              "      <td>0.131609</td>\n",
              "      <td>-0.527545</td>\n",
              "      <td>1.000000</td>\n",
              "      <td>0.995101</td>\n",
              "      <td>-0.026338</td>\n",
              "      <td>0.018847</td>\n",
              "      <td>0.019750</td>\n",
              "      <td>-0.015013</td>\n",
              "      <td>0.001429</td>\n",
              "      <td>0.007525</td>\n",
              "      <td>-0.031663</td>\n",
              "      <td>0.037472</td>\n",
              "      <td>-0.021735</td>\n",
              "      <td>-0.007968</td>\n",
              "      <td>-0.006527</td>\n",
              "      <td>0.005612</td>\n",
              "      <td>-0.016629</td>\n",
              "      <td>0.018799</td>\n",
              "      <td>-0.029723</td>\n",
              "      <td>0.084843</td>\n",
              "      <td>0.000319</td>\n",
              "      <td>0.028088</td>\n",
              "      <td>-0.021210</td>\n",
              "      <td>0.010491</td>\n",
              "      <td>0.027968</td>\n",
              "      <td>0.008830</td>\n",
              "      <td>0.022129</td>\n",
              "    </tr>\n",
              "    <tr>\n",
              "      <th>arrival_date_week_number</th>\n",
              "      <td>0.001239</td>\n",
              "      <td>0.008313</td>\n",
              "      <td>0.127053</td>\n",
              "      <td>-0.540381</td>\n",
              "      <td>0.995101</td>\n",
              "      <td>1.000000</td>\n",
              "      <td>0.066570</td>\n",
              "      <td>0.018628</td>\n",
              "      <td>0.016060</td>\n",
              "      <td>-0.017155</td>\n",
              "      <td>-0.000373</td>\n",
              "      <td>0.005845</td>\n",
              "      <td>-0.031074</td>\n",
              "      <td>0.035492</td>\n",
              "      <td>-0.020998</td>\n",
              "      <td>-0.008017</td>\n",
              "      <td>-0.005738</td>\n",
              "      <td>0.006356</td>\n",
              "      <td>-0.017594</td>\n",
              "      <td>0.022674</td>\n",
              "      <td>-0.028392</td>\n",
              "      <td>0.081016</td>\n",
              "      <td>0.001974</td>\n",
              "      <td>0.026203</td>\n",
              "      <td>-0.017513</td>\n",
              "      <td>0.010673</td>\n",
              "      <td>0.025899</td>\n",
              "      <td>0.007849</td>\n",
              "      <td>0.019289</td>\n",
              "    </tr>\n",
              "    <tr>\n",
              "      <th>arrival_date_day_of_month</th>\n",
              "      <td>-0.001698</td>\n",
              "      <td>-0.005969</td>\n",
              "      <td>0.002313</td>\n",
              "      <td>-0.000121</td>\n",
              "      <td>-0.026338</td>\n",
              "      <td>0.066570</td>\n",
              "      <td>1.000000</td>\n",
              "      <td>-0.016174</td>\n",
              "      <td>-0.028329</td>\n",
              "      <td>-0.006717</td>\n",
              "      <td>-0.004004</td>\n",
              "      <td>0.001631</td>\n",
              "      <td>-0.006416</td>\n",
              "      <td>-0.027029</td>\n",
              "      <td>-0.000293</td>\n",
              "      <td>0.017301</td>\n",
              "      <td>0.012683</td>\n",
              "      <td>0.011306</td>\n",
              "      <td>0.000010</td>\n",
              "      <td>0.022530</td>\n",
              "      <td>0.012238</td>\n",
              "      <td>0.030807</td>\n",
              "      <td>0.008566</td>\n",
              "      <td>0.003025</td>\n",
              "      <td>0.011342</td>\n",
              "      <td>0.014749</td>\n",
              "      <td>0.006804</td>\n",
              "      <td>-0.008675</td>\n",
              "      <td>-0.027488</td>\n",
              "    </tr>\n",
              "    <tr>\n",
              "      <th>stays_in_weekend_nights</th>\n",
              "      <td>-0.187761</td>\n",
              "      <td>-0.001326</td>\n",
              "      <td>0.085982</td>\n",
              "      <td>0.021719</td>\n",
              "      <td>0.018847</td>\n",
              "      <td>0.018628</td>\n",
              "      <td>-0.016174</td>\n",
              "      <td>1.000000</td>\n",
              "      <td>0.494111</td>\n",
              "      <td>0.044600</td>\n",
              "      <td>0.116005</td>\n",
              "      <td>0.093602</td>\n",
              "      <td>-0.086168</td>\n",
              "      <td>-0.012765</td>\n",
              "      <td>-0.042893</td>\n",
              "      <td>0.143012</td>\n",
              "      <td>0.084488</td>\n",
              "      <td>0.050064</td>\n",
              "      <td>0.164765</td>\n",
              "      <td>-0.054398</td>\n",
              "      <td>-0.110158</td>\n",
              "      <td>0.054100</td>\n",
              "      <td>-0.018510</td>\n",
              "      <td>0.073141</td>\n",
              "      <td>0.008092</td>\n",
              "      <td>0.052614</td>\n",
              "      <td>0.103818</td>\n",
              "      <td>-0.114544</td>\n",
              "      <td>0.760632</td>\n",
              "    </tr>\n",
              "    <tr>\n",
              "      <th>stays_in_week_nights</th>\n",
              "      <td>-0.235901</td>\n",
              "      <td>0.025516</td>\n",
              "      <td>0.166899</td>\n",
              "      <td>0.031230</td>\n",
              "      <td>0.019750</td>\n",
              "      <td>0.016060</td>\n",
              "      <td>-0.028329</td>\n",
              "      <td>0.494111</td>\n",
              "      <td>1.000000</td>\n",
              "      <td>0.035637</td>\n",
              "      <td>0.109544</td>\n",
              "      <td>0.088018</td>\n",
              "      <td>-0.095405</td>\n",
              "      <td>-0.013974</td>\n",
              "      <td>-0.048895</td>\n",
              "      <td>0.170159</td>\n",
              "      <td>0.098674</td>\n",
              "      <td>0.079915</td>\n",
              "      <td>0.200213</td>\n",
              "      <td>-0.002021</td>\n",
              "      <td>-0.128581</td>\n",
              "      <td>0.070924</td>\n",
              "      <td>-0.024927</td>\n",
              "      <td>0.068729</td>\n",
              "      <td>-0.022435</td>\n",
              "      <td>0.050861</td>\n",
              "      <td>0.104395</td>\n",
              "      <td>-0.080298</td>\n",
              "      <td>0.940236</td>\n",
              "    </tr>\n",
              "    <tr>\n",
              "      <th>meal</th>\n",
              "      <td>0.007276</td>\n",
              "      <td>-0.017226</td>\n",
              "      <td>0.001413</td>\n",
              "      <td>0.065639</td>\n",
              "      <td>-0.015013</td>\n",
              "      <td>-0.017155</td>\n",
              "      <td>-0.006717</td>\n",
              "      <td>0.044600</td>\n",
              "      <td>0.035637</td>\n",
              "      <td>1.000000</td>\n",
              "      <td>0.146805</td>\n",
              "      <td>0.118342</td>\n",
              "      <td>-0.059142</td>\n",
              "      <td>-0.003658</td>\n",
              "      <td>-0.040467</td>\n",
              "      <td>-0.122455</td>\n",
              "      <td>-0.127773</td>\n",
              "      <td>0.020116</td>\n",
              "      <td>-0.017257</td>\n",
              "      <td>-0.007169</td>\n",
              "      <td>0.044492</td>\n",
              "      <td>0.065792</td>\n",
              "      <td>-0.039064</td>\n",
              "      <td>0.023593</td>\n",
              "      <td>0.015052</td>\n",
              "      <td>-0.041310</td>\n",
              "      <td>-0.001263</td>\n",
              "      <td>-0.090320</td>\n",
              "      <td>0.044079</td>\n",
              "    </tr>\n",
              "    <tr>\n",
              "      <th>market_segment</th>\n",
              "      <td>0.084117</td>\n",
              "      <td>0.059407</td>\n",
              "      <td>0.013271</td>\n",
              "      <td>0.107908</td>\n",
              "      <td>0.001429</td>\n",
              "      <td>-0.000373</td>\n",
              "      <td>-0.004004</td>\n",
              "      <td>0.116005</td>\n",
              "      <td>0.109544</td>\n",
              "      <td>0.146805</td>\n",
              "      <td>1.000000</td>\n",
              "      <td>0.767505</td>\n",
              "      <td>-0.252597</td>\n",
              "      <td>-0.059788</td>\n",
              "      <td>-0.179840</td>\n",
              "      <td>0.095682</td>\n",
              "      <td>0.027867</td>\n",
              "      <td>-0.071652</td>\n",
              "      <td>0.135472</td>\n",
              "      <td>-0.041590</td>\n",
              "      <td>-0.165825</td>\n",
              "      <td>0.243921</td>\n",
              "      <td>-0.062260</td>\n",
              "      <td>0.274291</td>\n",
              "      <td>-0.061716</td>\n",
              "      <td>0.080449</td>\n",
              "      <td>0.213601</td>\n",
              "      <td>-0.184432</td>\n",
              "      <td>0.127233</td>\n",
              "    </tr>\n",
              "    <tr>\n",
              "      <th>distribution_channel</th>\n",
              "      <td>0.174980</td>\n",
              "      <td>0.167682</td>\n",
              "      <td>0.220225</td>\n",
              "      <td>0.022643</td>\n",
              "      <td>0.007525</td>\n",
              "      <td>0.005845</td>\n",
              "      <td>0.001631</td>\n",
              "      <td>0.093602</td>\n",
              "      <td>0.088018</td>\n",
              "      <td>0.118342</td>\n",
              "      <td>0.767505</td>\n",
              "      <td>1.000000</td>\n",
              "      <td>-0.265379</td>\n",
              "      <td>-0.022587</td>\n",
              "      <td>-0.205003</td>\n",
              "      <td>-0.041048</td>\n",
              "      <td>-0.104002</td>\n",
              "      <td>-0.113929</td>\n",
              "      <td>0.111728</td>\n",
              "      <td>0.048568</td>\n",
              "      <td>-0.069675</td>\n",
              "      <td>0.095552</td>\n",
              "      <td>-0.132484</td>\n",
              "      <td>0.098573</td>\n",
              "      <td>-0.171483</td>\n",
              "      <td>0.000328</td>\n",
              "      <td>0.144049</td>\n",
              "      <td>0.102445</td>\n",
              "      <td>0.102385</td>\n",
              "    </tr>\n",
              "    <tr>\n",
              "      <th>is_repeated_guest</th>\n",
              "      <td>-0.052468</td>\n",
              "      <td>-0.083721</td>\n",
              "      <td>-0.123270</td>\n",
              "      <td>0.010222</td>\n",
              "      <td>-0.031663</td>\n",
              "      <td>-0.031074</td>\n",
              "      <td>-0.006416</td>\n",
              "      <td>-0.086168</td>\n",
              "      <td>-0.095405</td>\n",
              "      <td>-0.059142</td>\n",
              "      <td>-0.252597</td>\n",
              "      <td>-0.265379</td>\n",
              "      <td>1.000000</td>\n",
              "      <td>0.082755</td>\n",
              "      <td>0.420641</td>\n",
              "      <td>-0.029171</td>\n",
              "      <td>0.028209</td>\n",
              "      <td>0.012927</td>\n",
              "      <td>-0.055005</td>\n",
              "      <td>-0.022055</td>\n",
              "      <td>-0.016442</td>\n",
              "      <td>-0.137067</td>\n",
              "      <td>0.077948</td>\n",
              "      <td>0.012998</td>\n",
              "      <td>0.082582</td>\n",
              "      <td>-0.034679</td>\n",
              "      <td>-0.132253</td>\n",
              "      <td>-0.057949</td>\n",
              "      <td>-0.104990</td>\n",
              "    </tr>\n",
              "    <tr>\n",
              "      <th>previous_cancellations</th>\n",
              "      <td>-0.012262</td>\n",
              "      <td>0.110142</td>\n",
              "      <td>0.086025</td>\n",
              "      <td>-0.119911</td>\n",
              "      <td>0.037472</td>\n",
              "      <td>0.035492</td>\n",
              "      <td>-0.027029</td>\n",
              "      <td>-0.012765</td>\n",
              "      <td>-0.013974</td>\n",
              "      <td>-0.003658</td>\n",
              "      <td>-0.059788</td>\n",
              "      <td>-0.022587</td>\n",
              "      <td>0.082755</td>\n",
              "      <td>1.000000</td>\n",
              "      <td>0.152572</td>\n",
              "      <td>-0.048858</td>\n",
              "      <td>-0.058588</td>\n",
              "      <td>-0.027255</td>\n",
              "      <td>-0.017226</td>\n",
              "      <td>0.005941</td>\n",
              "      <td>-0.008179</td>\n",
              "      <td>-0.069166</td>\n",
              "      <td>-0.018541</td>\n",
              "      <td>-0.048489</td>\n",
              "      <td>-0.110764</td>\n",
              "      <td>-0.027286</td>\n",
              "      <td>-0.020419</td>\n",
              "      <td>0.143312</td>\n",
              "      <td>-0.015434</td>\n",
              "    </tr>\n",
              "    <tr>\n",
              "      <th>previous_bookings_not_canceled</th>\n",
              "      <td>-0.004452</td>\n",
              "      <td>-0.057358</td>\n",
              "      <td>-0.073612</td>\n",
              "      <td>0.029220</td>\n",
              "      <td>-0.021735</td>\n",
              "      <td>-0.020998</td>\n",
              "      <td>-0.000293</td>\n",
              "      <td>-0.042893</td>\n",
              "      <td>-0.048895</td>\n",
              "      <td>-0.040467</td>\n",
              "      <td>-0.179840</td>\n",
              "      <td>-0.205003</td>\n",
              "      <td>0.420641</td>\n",
              "      <td>0.152572</td>\n",
              "      <td>1.000000</td>\n",
              "      <td>-0.021687</td>\n",
              "      <td>0.003277</td>\n",
              "      <td>0.011940</td>\n",
              "      <td>-0.049111</td>\n",
              "      <td>-0.009415</td>\n",
              "      <td>-0.012256</td>\n",
              "      <td>-0.075829</td>\n",
              "      <td>0.047509</td>\n",
              "      <td>0.037782</td>\n",
              "      <td>0.055056</td>\n",
              "      <td>-0.022815</td>\n",
              "      <td>-0.099867</td>\n",
              "      <td>-0.031517</td>\n",
              "      <td>-0.053310</td>\n",
              "    </tr>\n",
              "    <tr>\n",
              "      <th>reserved_room_type</th>\n",
              "      <td>-0.250479</td>\n",
              "      <td>-0.062225</td>\n",
              "      <td>-0.105985</td>\n",
              "      <td>0.092909</td>\n",
              "      <td>-0.007968</td>\n",
              "      <td>-0.008017</td>\n",
              "      <td>0.017301</td>\n",
              "      <td>0.143012</td>\n",
              "      <td>0.170159</td>\n",
              "      <td>-0.122455</td>\n",
              "      <td>0.095682</td>\n",
              "      <td>-0.041048</td>\n",
              "      <td>-0.029171</td>\n",
              "      <td>-0.048858</td>\n",
              "      <td>-0.021687</td>\n",
              "      <td>1.000000</td>\n",
              "      <td>0.819905</td>\n",
              "      <td>0.045915</td>\n",
              "      <td>0.194955</td>\n",
              "      <td>-0.068810</td>\n",
              "      <td>-0.120619</td>\n",
              "      <td>0.414889</td>\n",
              "      <td>0.131998</td>\n",
              "      <td>0.137956</td>\n",
              "      <td>0.059584</td>\n",
              "      <td>0.324638</td>\n",
              "      <td>0.388078</td>\n",
              "      <td>-0.201551</td>\n",
              "      <td>0.183073</td>\n",
              "    </tr>\n",
              "    <tr>\n",
              "      <th>assigned_room_type</th>\n",
              "      <td>-0.312828</td>\n",
              "      <td>-0.175833</td>\n",
              "      <td>-0.171271</td>\n",
              "      <td>0.035735</td>\n",
              "      <td>-0.006527</td>\n",
              "      <td>-0.005738</td>\n",
              "      <td>0.012683</td>\n",
              "      <td>0.084488</td>\n",
              "      <td>0.098674</td>\n",
              "      <td>-0.127773</td>\n",
              "      <td>0.027867</td>\n",
              "      <td>-0.104002</td>\n",
              "      <td>0.028209</td>\n",
              "      <td>-0.058588</td>\n",
              "      <td>0.003277</td>\n",
              "      <td>0.819905</td>\n",
              "      <td>1.000000</td>\n",
              "      <td>0.085979</td>\n",
              "      <td>0.198855</td>\n",
              "      <td>-0.069079</td>\n",
              "      <td>-0.085126</td>\n",
              "      <td>0.281896</td>\n",
              "      <td>0.161848</td>\n",
              "      <td>0.126255</td>\n",
              "      <td>0.172497</td>\n",
              "      <td>0.296547</td>\n",
              "      <td>0.317873</td>\n",
              "      <td>-0.247224</td>\n",
              "      <td>0.106772</td>\n",
              "    </tr>\n",
              "    <tr>\n",
              "      <th>booking_changes</th>\n",
              "      <td>-0.076563</td>\n",
              "      <td>-0.144857</td>\n",
              "      <td>0.002243</td>\n",
              "      <td>0.031451</td>\n",
              "      <td>0.005612</td>\n",
              "      <td>0.006356</td>\n",
              "      <td>0.011306</td>\n",
              "      <td>0.050064</td>\n",
              "      <td>0.079915</td>\n",
              "      <td>0.020116</td>\n",
              "      <td>-0.071652</td>\n",
              "      <td>-0.113929</td>\n",
              "      <td>0.012927</td>\n",
              "      <td>-0.027255</td>\n",
              "      <td>0.011940</td>\n",
              "      <td>0.045915</td>\n",
              "      <td>0.085979</td>\n",
              "      <td>1.000000</td>\n",
              "      <td>0.037021</td>\n",
              "      <td>-0.011907</td>\n",
              "      <td>0.093446</td>\n",
              "      <td>0.026839</td>\n",
              "      <td>0.067515</td>\n",
              "      <td>0.055022</td>\n",
              "      <td>0.141345</td>\n",
              "      <td>0.081821</td>\n",
              "      <td>0.006152</td>\n",
              "      <td>-0.120673</td>\n",
              "      <td>0.079281</td>\n",
              "    </tr>\n",
              "    <tr>\n",
              "      <th>agent</th>\n",
              "      <td>-0.649268</td>\n",
              "      <td>-0.046994</td>\n",
              "      <td>-0.012434</td>\n",
              "      <td>0.053798</td>\n",
              "      <td>-0.016629</td>\n",
              "      <td>-0.017594</td>\n",
              "      <td>0.000010</td>\n",
              "      <td>0.164765</td>\n",
              "      <td>0.200213</td>\n",
              "      <td>-0.017257</td>\n",
              "      <td>0.135472</td>\n",
              "      <td>0.111728</td>\n",
              "      <td>-0.055005</td>\n",
              "      <td>-0.017226</td>\n",
              "      <td>-0.049111</td>\n",
              "      <td>0.194955</td>\n",
              "      <td>0.198855</td>\n",
              "      <td>0.037021</td>\n",
              "      <td>1.000000</td>\n",
              "      <td>-0.039112</td>\n",
              "      <td>0.017237</td>\n",
              "      <td>0.015388</td>\n",
              "      <td>0.116559</td>\n",
              "      <td>0.056023</td>\n",
              "      <td>0.040780</td>\n",
              "      <td>0.055280</td>\n",
              "      <td>0.050094</td>\n",
              "      <td>-0.093193</td>\n",
              "      <td>0.214034</td>\n",
              "    </tr>\n",
              "    <tr>\n",
              "      <th>days_in_waiting_list</th>\n",
              "      <td>0.072726</td>\n",
              "      <td>0.054303</td>\n",
              "      <td>0.170008</td>\n",
              "      <td>-0.056352</td>\n",
              "      <td>0.018799</td>\n",
              "      <td>0.022674</td>\n",
              "      <td>0.022530</td>\n",
              "      <td>-0.054398</td>\n",
              "      <td>-0.002021</td>\n",
              "      <td>-0.007169</td>\n",
              "      <td>-0.041590</td>\n",
              "      <td>0.048568</td>\n",
              "      <td>-0.022055</td>\n",
              "      <td>0.005941</td>\n",
              "      <td>-0.009415</td>\n",
              "      <td>-0.068810</td>\n",
              "      <td>-0.069079</td>\n",
              "      <td>-0.011907</td>\n",
              "      <td>-0.039112</td>\n",
              "      <td>1.000000</td>\n",
              "      <td>0.098957</td>\n",
              "      <td>-0.042774</td>\n",
              "      <td>-0.030603</td>\n",
              "      <td>-0.082757</td>\n",
              "      <td>-0.058038</td>\n",
              "      <td>-0.036330</td>\n",
              "      <td>-0.026620</td>\n",
              "      <td>0.120334</td>\n",
              "      <td>-0.022816</td>\n",
              "    </tr>\n",
              "    <tr>\n",
              "      <th>customer_type</th>\n",
              "      <td>0.047683</td>\n",
              "      <td>-0.068152</td>\n",
              "      <td>0.073289</td>\n",
              "      <td>-0.006281</td>\n",
              "      <td>-0.029723</td>\n",
              "      <td>-0.028392</td>\n",
              "      <td>0.012238</td>\n",
              "      <td>-0.110158</td>\n",
              "      <td>-0.128581</td>\n",
              "      <td>0.044492</td>\n",
              "      <td>-0.165825</td>\n",
              "      <td>-0.069675</td>\n",
              "      <td>-0.016442</td>\n",
              "      <td>-0.008179</td>\n",
              "      <td>-0.012256</td>\n",
              "      <td>-0.120619</td>\n",
              "      <td>-0.085126</td>\n",
              "      <td>0.093446</td>\n",
              "      <td>0.017237</td>\n",
              "      <td>0.098957</td>\n",
              "      <td>1.000000</td>\n",
              "      <td>-0.080988</td>\n",
              "      <td>-0.030041</td>\n",
              "      <td>-0.135578</td>\n",
              "      <td>0.066148</td>\n",
              "      <td>-0.060120</td>\n",
              "      <td>-0.113869</td>\n",
              "      <td>-0.086816</td>\n",
              "      <td>-0.139159</td>\n",
              "    </tr>\n",
              "    <tr>\n",
              "      <th>adr</th>\n",
              "      <td>0.102756</td>\n",
              "      <td>0.047578</td>\n",
              "      <td>-0.067643</td>\n",
              "      <td>0.208549</td>\n",
              "      <td>0.084843</td>\n",
              "      <td>0.081016</td>\n",
              "      <td>0.030807</td>\n",
              "      <td>0.054100</td>\n",
              "      <td>0.070924</td>\n",
              "      <td>0.065792</td>\n",
              "      <td>0.243921</td>\n",
              "      <td>0.095552</td>\n",
              "      <td>-0.137067</td>\n",
              "      <td>-0.069166</td>\n",
              "      <td>-0.075829</td>\n",
              "      <td>0.414889</td>\n",
              "      <td>0.281896</td>\n",
              "      <td>0.026839</td>\n",
              "      <td>0.015388</td>\n",
              "      <td>-0.042774</td>\n",
              "      <td>-0.080988</td>\n",
              "      <td>1.000000</td>\n",
              "      <td>0.059555</td>\n",
              "      <td>0.181540</td>\n",
              "      <td>-0.050804</td>\n",
              "      <td>0.325166</td>\n",
              "      <td>0.382591</td>\n",
              "      <td>-0.095795</td>\n",
              "      <td>0.074149</td>\n",
              "    </tr>\n",
              "    <tr>\n",
              "      <th>required_car_parking_spaces</th>\n",
              "      <td>-0.218968</td>\n",
              "      <td>-0.195705</td>\n",
              "      <td>-0.116629</td>\n",
              "      <td>-0.013818</td>\n",
              "      <td>0.000319</td>\n",
              "      <td>0.001974</td>\n",
              "      <td>0.008566</td>\n",
              "      <td>-0.018510</td>\n",
              "      <td>-0.024927</td>\n",
              "      <td>-0.039064</td>\n",
              "      <td>-0.062260</td>\n",
              "      <td>-0.132484</td>\n",
              "      <td>0.077948</td>\n",
              "      <td>-0.018541</td>\n",
              "      <td>0.047509</td>\n",
              "      <td>0.131998</td>\n",
              "      <td>0.161848</td>\n",
              "      <td>0.067515</td>\n",
              "      <td>0.116559</td>\n",
              "      <td>-0.030603</td>\n",
              "      <td>-0.030041</td>\n",
              "      <td>0.059555</td>\n",
              "      <td>1.000000</td>\n",
              "      <td>0.082716</td>\n",
              "      <td>0.179508</td>\n",
              "      <td>0.069168</td>\n",
              "      <td>0.048017</td>\n",
              "      <td>-0.095093</td>\n",
              "      <td>-0.025863</td>\n",
              "    </tr>\n",
              "    <tr>\n",
              "      <th>total_of_special_requests</th>\n",
              "      <td>-0.043476</td>\n",
              "      <td>-0.234888</td>\n",
              "      <td>-0.095950</td>\n",
              "      <td>0.108618</td>\n",
              "      <td>0.028088</td>\n",
              "      <td>0.026203</td>\n",
              "      <td>0.003025</td>\n",
              "      <td>0.073141</td>\n",
              "      <td>0.068729</td>\n",
              "      <td>0.023593</td>\n",
              "      <td>0.274291</td>\n",
              "      <td>0.098573</td>\n",
              "      <td>0.012998</td>\n",
              "      <td>-0.048489</td>\n",
              "      <td>0.037782</td>\n",
              "      <td>0.137956</td>\n",
              "      <td>0.126255</td>\n",
              "      <td>0.055022</td>\n",
              "      <td>0.056023</td>\n",
              "      <td>-0.082757</td>\n",
              "      <td>-0.135578</td>\n",
              "      <td>0.181540</td>\n",
              "      <td>0.082716</td>\n",
              "      <td>1.000000</td>\n",
              "      <td>0.225848</td>\n",
              "      <td>0.128253</td>\n",
              "      <td>0.157618</td>\n",
              "      <td>-0.268301</td>\n",
              "      <td>0.079968</td>\n",
              "    </tr>\n",
              "    <tr>\n",
              "      <th>reservation_status</th>\n",
              "      <td>-0.124811</td>\n",
              "      <td>-0.917239</td>\n",
              "      <td>-0.301959</td>\n",
              "      <td>-0.017597</td>\n",
              "      <td>-0.021210</td>\n",
              "      <td>-0.017513</td>\n",
              "      <td>0.011342</td>\n",
              "      <td>0.008092</td>\n",
              "      <td>-0.022435</td>\n",
              "      <td>0.015052</td>\n",
              "      <td>-0.061716</td>\n",
              "      <td>-0.171483</td>\n",
              "      <td>0.082582</td>\n",
              "      <td>-0.110764</td>\n",
              "      <td>0.055056</td>\n",
              "      <td>0.059584</td>\n",
              "      <td>0.172497</td>\n",
              "      <td>0.141345</td>\n",
              "      <td>0.040780</td>\n",
              "      <td>-0.058038</td>\n",
              "      <td>0.066148</td>\n",
              "      <td>-0.050804</td>\n",
              "      <td>0.179508</td>\n",
              "      <td>0.225848</td>\n",
              "      <td>1.000000</td>\n",
              "      <td>0.013200</td>\n",
              "      <td>-0.054351</td>\n",
              "      <td>-0.478789</td>\n",
              "      <td>-0.013582</td>\n",
              "    </tr>\n",
              "    <tr>\n",
              "      <th>is_family</th>\n",
              "      <td>-0.058106</td>\n",
              "      <td>-0.013220</td>\n",
              "      <td>-0.044216</td>\n",
              "      <td>0.052901</td>\n",
              "      <td>0.010491</td>\n",
              "      <td>0.010673</td>\n",
              "      <td>0.014749</td>\n",
              "      <td>0.052614</td>\n",
              "      <td>0.050861</td>\n",
              "      <td>-0.041310</td>\n",
              "      <td>0.080449</td>\n",
              "      <td>0.000328</td>\n",
              "      <td>-0.034679</td>\n",
              "      <td>-0.027286</td>\n",
              "      <td>-0.022815</td>\n",
              "      <td>0.324638</td>\n",
              "      <td>0.296547</td>\n",
              "      <td>0.081821</td>\n",
              "      <td>0.055280</td>\n",
              "      <td>-0.036330</td>\n",
              "      <td>-0.060120</td>\n",
              "      <td>0.325166</td>\n",
              "      <td>0.069168</td>\n",
              "      <td>0.128253</td>\n",
              "      <td>0.013200</td>\n",
              "      <td>1.000000</td>\n",
              "      <td>0.582230</td>\n",
              "      <td>-0.106805</td>\n",
              "      <td>0.058585</td>\n",
              "    </tr>\n",
              "    <tr>\n",
              "      <th>total_customer</th>\n",
              "      <td>-0.038832</td>\n",
              "      <td>0.044933</td>\n",
              "      <td>0.070572</td>\n",
              "      <td>0.053267</td>\n",
              "      <td>0.027968</td>\n",
              "      <td>0.025899</td>\n",
              "      <td>0.006804</td>\n",
              "      <td>0.103818</td>\n",
              "      <td>0.104395</td>\n",
              "      <td>-0.001263</td>\n",
              "      <td>0.213601</td>\n",
              "      <td>0.144049</td>\n",
              "      <td>-0.132253</td>\n",
              "      <td>-0.020419</td>\n",
              "      <td>-0.099867</td>\n",
              "      <td>0.388078</td>\n",
              "      <td>0.317873</td>\n",
              "      <td>0.006152</td>\n",
              "      <td>0.050094</td>\n",
              "      <td>-0.026620</td>\n",
              "      <td>-0.113869</td>\n",
              "      <td>0.382591</td>\n",
              "      <td>0.048017</td>\n",
              "      <td>0.157618</td>\n",
              "      <td>-0.054351</td>\n",
              "      <td>0.582230</td>\n",
              "      <td>1.000000</td>\n",
              "      <td>-0.082744</td>\n",
              "      <td>0.118615</td>\n",
              "    </tr>\n",
              "    <tr>\n",
              "      <th>deposit_given</th>\n",
              "      <td>0.172404</td>\n",
              "      <td>0.481501</td>\n",
              "      <td>0.380147</td>\n",
              "      <td>-0.065982</td>\n",
              "      <td>0.008830</td>\n",
              "      <td>0.007849</td>\n",
              "      <td>-0.008675</td>\n",
              "      <td>-0.114544</td>\n",
              "      <td>-0.080298</td>\n",
              "      <td>-0.090320</td>\n",
              "      <td>-0.184432</td>\n",
              "      <td>0.102445</td>\n",
              "      <td>-0.057949</td>\n",
              "      <td>0.143312</td>\n",
              "      <td>-0.031517</td>\n",
              "      <td>-0.201551</td>\n",
              "      <td>-0.247224</td>\n",
              "      <td>-0.120673</td>\n",
              "      <td>-0.093193</td>\n",
              "      <td>0.120334</td>\n",
              "      <td>-0.086816</td>\n",
              "      <td>-0.095795</td>\n",
              "      <td>-0.095093</td>\n",
              "      <td>-0.268301</td>\n",
              "      <td>-0.478789</td>\n",
              "      <td>-0.106805</td>\n",
              "      <td>-0.082744</td>\n",
              "      <td>1.000000</td>\n",
              "      <td>-0.104823</td>\n",
              "    </tr>\n",
              "    <tr>\n",
              "      <th>total_nights</th>\n",
              "      <td>-0.249690</td>\n",
              "      <td>0.018533</td>\n",
              "      <td>0.158301</td>\n",
              "      <td>0.031826</td>\n",
              "      <td>0.022129</td>\n",
              "      <td>0.019289</td>\n",
              "      <td>-0.027488</td>\n",
              "      <td>0.760632</td>\n",
              "      <td>0.940236</td>\n",
              "      <td>0.044079</td>\n",
              "      <td>0.127233</td>\n",
              "      <td>0.102385</td>\n",
              "      <td>-0.104990</td>\n",
              "      <td>-0.015434</td>\n",
              "      <td>-0.053310</td>\n",
              "      <td>0.183073</td>\n",
              "      <td>0.106772</td>\n",
              "      <td>0.079281</td>\n",
              "      <td>0.214034</td>\n",
              "      <td>-0.022816</td>\n",
              "      <td>-0.139159</td>\n",
              "      <td>0.074149</td>\n",
              "      <td>-0.025863</td>\n",
              "      <td>0.079968</td>\n",
              "      <td>-0.013582</td>\n",
              "      <td>0.058585</td>\n",
              "      <td>0.118615</td>\n",
              "      <td>-0.104823</td>\n",
              "      <td>1.000000</td>\n",
              "    </tr>\n",
              "  </tbody>\n",
              "</table>\n",
              "</div>"
            ],
            "text/plain": [
              "                                   hotel  ...  total_nights\n",
              "hotel                           1.000000  ...     -0.249690\n",
              "is_canceled                     0.137096  ...      0.018533\n",
              "lead_time                       0.075990  ...      0.158301\n",
              "arrival_date_year               0.035185  ...      0.031826\n",
              "arrival_date_month              0.001770  ...      0.022129\n",
              "arrival_date_week_number        0.001239  ...      0.019289\n",
              "arrival_date_day_of_month      -0.001698  ...     -0.027488\n",
              "stays_in_weekend_nights        -0.187761  ...      0.760632\n",
              "stays_in_week_nights           -0.235901  ...      0.940236\n",
              "meal                            0.007276  ...      0.044079\n",
              "market_segment                  0.084117  ...      0.127233\n",
              "distribution_channel            0.174980  ...      0.102385\n",
              "is_repeated_guest              -0.052468  ...     -0.104990\n",
              "previous_cancellations         -0.012262  ...     -0.015434\n",
              "previous_bookings_not_canceled -0.004452  ...     -0.053310\n",
              "reserved_room_type             -0.250479  ...      0.183073\n",
              "assigned_room_type             -0.312828  ...      0.106772\n",
              "booking_changes                -0.076563  ...      0.079281\n",
              "agent                          -0.649268  ...      0.214034\n",
              "days_in_waiting_list            0.072726  ...     -0.022816\n",
              "customer_type                   0.047683  ...     -0.139159\n",
              "adr                             0.102756  ...      0.074149\n",
              "required_car_parking_spaces    -0.218968  ...     -0.025863\n",
              "total_of_special_requests      -0.043476  ...      0.079968\n",
              "reservation_status             -0.124811  ...     -0.013582\n",
              "is_family                      -0.058106  ...      0.058585\n",
              "total_customer                 -0.038832  ...      0.118615\n",
              "deposit_given                   0.172404  ...     -0.104823\n",
              "total_nights                   -0.249690  ...      1.000000\n",
              "\n",
              "[29 rows x 29 columns]"
            ]
          },
          "metadata": {
            "tags": []
          },
          "execution_count": 66
        }
      ]
    },
    {
      "cell_type": "code",
      "metadata": {
        "colab": {
          "base_uri": "https://localhost:8080/"
        },
        "id": "SEDGGCJKnhA8",
        "outputId": "4bf7cb72-26aa-40c0-d492-a724924f7738"
      },
      "source": [
        "cor_data.corr()[\"is_canceled\"].sort_values(ascending = False)"
      ],
      "execution_count": null,
      "outputs": [
        {
          "output_type": "execute_result",
          "data": {
            "text/plain": [
              "is_canceled                       1.000000\n",
              "deposit_given                     0.481501\n",
              "lead_time                         0.292893\n",
              "distribution_channel              0.167682\n",
              "hotel                             0.137096\n",
              "previous_cancellations            0.110142\n",
              "market_segment                    0.059407\n",
              "days_in_waiting_list              0.054303\n",
              "adr                               0.047578\n",
              "total_customer                    0.044933\n",
              "stays_in_week_nights              0.025516\n",
              "total_nights                      0.018533\n",
              "arrival_date_year                 0.016638\n",
              "arrival_date_month                0.011179\n",
              "arrival_date_week_number          0.008313\n",
              "stays_in_weekend_nights          -0.001326\n",
              "arrival_date_day_of_month        -0.005969\n",
              "is_family                        -0.013220\n",
              "meal                             -0.017226\n",
              "agent                            -0.046994\n",
              "previous_bookings_not_canceled   -0.057358\n",
              "reserved_room_type               -0.062225\n",
              "customer_type                    -0.068152\n",
              "is_repeated_guest                -0.083721\n",
              "booking_changes                  -0.144857\n",
              "assigned_room_type               -0.175833\n",
              "required_car_parking_spaces      -0.195705\n",
              "total_of_special_requests        -0.234888\n",
              "reservation_status               -0.917239\n",
              "Name: is_canceled, dtype: float64"
            ]
          },
          "metadata": {
            "tags": []
          },
          "execution_count": 67
        }
      ]
    },
    {
      "cell_type": "markdown",
      "metadata": {
        "id": "_CxbZq5yoFVr"
      },
      "source": [
        "### Correlation heatmap"
      ]
    },
    {
      "cell_type": "code",
      "metadata": {
        "colab": {
          "base_uri": "https://localhost:8080/",
          "height": 726
        },
        "id": "4vb6Wtl1mS5h",
        "outputId": "dc83dd8d-97fb-49c6-c5e6-add97be7e340"
      },
      "source": [
        "sns.set(rc={'figure.figsize':(20,15)})\n",
        "corr = cor_data.corr()# plot the heatmap\n",
        "sns.heatmap(corr, xticklabels=corr.columns, yticklabels=corr.columns, cmap=sns.diverging_palette(220, 20, as_cmap=True))"
      ],
      "execution_count": null,
      "outputs": [
        {
          "output_type": "execute_result",
          "data": {
            "text/plain": [
              "<matplotlib.axes._subplots.AxesSubplot at 0x7f5f52f21cd0>"
            ]
          },
          "metadata": {
            "tags": []
          },
          "execution_count": 68
        },
        {
          "output_type": "display_data",
          "data": {
            "image/png": "[encoded data removed]",
            "text/plain": [
              "<Figure size 1440x1080 with 2 Axes>"
            ]
          },
          "metadata": {
            "tags": []
          }
        }
      ]
    },
    {
      "cell_type": "code",
      "metadata": {
        "id": "OWLc4dSfoM8K"
      },
      "source": [
        "cor_data = cor_data.drop(columns = ['total_nights', 'arrival_date_week_number', 'stays_in_weekend_nights', 'arrival_date_month', 'agent'], axis = 1)"
      ],
      "execution_count": null,
      "outputs": []
    },
    {
      "cell_type": "code",
      "metadata": {
        "colab": {
          "base_uri": "https://localhost:8080/"
        },
        "id": "lFP6jdxCog5B",
        "outputId": "6a95dbfd-df5e-4d53-c535-eeaa82a3a8b4"
      },
      "source": [
        "indices = cor_data.loc[pd.isna(cor_data[\"country\"]), :].index \n",
        "cor_data = cor_data.drop(cor_data.index[indices])   \n",
        "cor_data.isnull().sum()"
      ],
      "execution_count": null,
      "outputs": [
        {
          "output_type": "execute_result",
          "data": {
            "text/plain": [
              "hotel                             0\n",
              "is_canceled                       0\n",
              "lead_time                         0\n",
              "arrival_date_year                 0\n",
              "arrival_date_day_of_month         0\n",
              "stays_in_week_nights              0\n",
              "meal                              0\n",
              "country                           0\n",
              "market_segment                    0\n",
              "distribution_channel              0\n",
              "is_repeated_guest                 0\n",
              "previous_cancellations            0\n",
              "previous_bookings_not_canceled    0\n",
              "reserved_room_type                0\n",
              "assigned_room_type                0\n",
              "booking_changes                   0\n",
              "days_in_waiting_list              0\n",
              "customer_type                     0\n",
              "adr                               0\n",
              "required_car_parking_spaces       0\n",
              "total_of_special_requests         0\n",
              "reservation_status                0\n",
              "is_family                         0\n",
              "total_customer                    0\n",
              "deposit_given                     0\n",
              "dtype: int64"
            ]
          },
          "metadata": {
            "tags": []
          },
          "execution_count": 70
        }
      ]
    },
    {
      "cell_type": "code",
      "metadata": {
        "id": "hqs_k_Pbolo5"
      },
      "source": [
        "indices = hb_new.loc[pd.isna(hb_new[\"country\"]), :].index \n",
        "hb_new = hb_new.drop(hb_new.index[indices])   \n",
        "hb_new = hb_new.drop(columns = ['arrival_date_week_number', 'stays_in_weekend_nights', 'arrival_date_month', 'agent'], axis = 1)"
      ],
      "execution_count": null,
      "outputs": []
    },
    {
      "cell_type": "markdown",
      "metadata": {
        "id": "ZeEgvq4WovZt"
      },
      "source": [
        "### One-hot encoding"
      ]
    },
    {
      "cell_type": "code",
      "metadata": {
        "id": "RZGbAFX9o0OW"
      },
      "source": [
        "df1 = hb_new.copy()"
      ],
      "execution_count": null,
      "outputs": []
    },
    {
      "cell_type": "code",
      "metadata": {
        "id": "sPdcwlxco3Sw"
      },
      "source": [
        "df1 = pd.get_dummies(data = df1, columns = ['meal', 'market_segment', 'distribution_channel',\n",
        "                                            'reserved_room_type', 'assigned_room_type', 'customer_type', 'reservation_status'])"
      ],
      "execution_count": null,
      "outputs": []
    },
    {
      "cell_type": "code",
      "metadata": {
        "id": "fP5xM2ffo61E"
      },
      "source": [
        "df1['country'] = le.fit_transform(df1['country']) "
      ],
      "execution_count": null,
      "outputs": []
    },
    {
      "cell_type": "markdown",
      "metadata": {
        "id": "yijgJGIqgsX7"
      },
      "source": [
        "# **Logistic regression**"
      ]
    },
    {
      "cell_type": "code",
      "metadata": {
        "id": "dTLIyaUZphMs"
      },
      "source": [
        "df2 = df1.drop(columns = ['reservation_status_Canceled', 'reservation_status_Check-Out', 'reservation_status_No-Show'], axis = 1)"
      ],
      "execution_count": null,
      "outputs": []
    },
    {
      "cell_type": "code",
      "metadata": {
        "id": "L7C1vNlFpiAN"
      },
      "source": [
        "from sklearn.model_selection import train_test_split\n",
        "from sklearn.metrics import accuracy_score, roc_auc_score, roc_curve, confusion_matrix, auc\n",
        "y = df2[\"is_canceled\"]\n",
        "X = df2.drop([\"is_canceled\"], axis=1)\n",
        "\n",
        "X_train, X_test, y_train, y_test = train_test_split(X, y, test_size = 0.30, random_state = 42)"
      ],
      "execution_count": null,
      "outputs": []
    },
    {
      "cell_type": "code",
      "metadata": {
        "id": "oHCvEjSrpaXS"
      },
      "source": [
        "def model(algorithm, X_train, X_test, y_train, y_test):\n",
        "    alg = algorithm\n",
        "    alg_model = alg.fit(X_train, y_train)\n",
        "    global y_prob, y_pred\n",
        "    y_prob = alg.predict_proba(X_test)[:,1]\n",
        "    y_pred = alg_model.predict(X_test)\n",
        "\n",
        "    print('Accuracy Score: {}\\n\\nConfusion Matrix:\\n {}'\n",
        "      .format(accuracy_score(y_test,y_pred), confusion_matrix(y_test,y_pred)))\n",
        "    \n",
        "\n",
        "def ROC(y_test, y_prob):\n",
        "    \n",
        "    false_positive_rate, true_positive_rate, threshold = roc_curve(y_test, y_prob)\n",
        "    roc_auc = auc(false_positive_rate, true_positive_rate)\n",
        "    \n",
        "    plt.figure(figsize = (10,10))\n",
        "    plt.title('Receiver Operating Characteristic')\n",
        "    plt.plot(false_positive_rate, true_positive_rate, color = 'red', label = 'AUC = %0.2f' % roc_auc)\n",
        "    plt.legend(loc = 'lower right')\n",
        "    plt.plot([0, 1], [0, 1], linestyle = '--')\n",
        "    plt.axis('tight')\n",
        "    plt.ylabel('True Positive Rate')\n",
        "    plt.xlabel('False Positive Rate')"
      ],
      "execution_count": null,
      "outputs": []
    },
    {
      "cell_type": "code",
      "metadata": {
        "colab": {
          "base_uri": "https://localhost:8080/"
        },
        "id": "jLhLINhCpMEj",
        "outputId": "3fc956e8-f74c-42d9-daeb-f5f709b06cfa"
      },
      "source": [
        "from sklearn.linear_model import LogisticRegression\n",
        "\n",
        "print('Model: Logistic Regression\\n')\n",
        "model(LogisticRegression(solver = \"liblinear\"), X_train, X_test, y_train, y_test)"
      ],
      "execution_count": null,
      "outputs": [
        {
          "output_type": "stream",
          "text": [
            "Model: Logistic Regression\n",
            "\n",
            "Accuracy Score: 0.8024998601867904\n",
            "\n",
            "Confusion Matrix:\n",
            " [[20537  1841]\n",
            " [ 5222  8162]]\n"
          ],
          "name": "stdout"
        }
      ]
    },
    {
      "cell_type": "code",
      "metadata": {
        "colab": {
          "base_uri": "https://localhost:8080/",
          "height": 644
        },
        "id": "Xy_KuHXwpThB",
        "outputId": "85626e07-ec5a-4635-9d70-e7f46547f69b"
      },
      "source": [
        "ROC(y_test, y_prob)\n",
        "plt.title('ROC for logistic regression')"
      ],
      "execution_count": null,
      "outputs": [
        {
          "output_type": "execute_result",
          "data": {
            "text/plain": [
              "Text(0.5, 1.0, 'ROC for logistic regression')"
            ]
          },
          "metadata": {
            "tags": []
          },
          "execution_count": 79
        },
        {
          "output_type": "display_data",
          "data": {
            "image/png": "[encoded data removed]",
            "text/plain": [
              "<Figure size 720x720 with 1 Axes>"
            ]
          },
          "metadata": {
            "tags": []
          }
        }
      ]
    },
    {
      "cell_type": "markdown",
      "metadata": {
        "id": "986ZbYBBrmm-"
      },
      "source": [
        "# **Random forest**"
      ]
    },
    {
      "cell_type": "code",
      "metadata": {
        "colab": {
          "base_uri": "https://localhost:8080/"
        },
        "id": "OWdNWjLHrKD3",
        "outputId": "3020cb03-b8cd-4ec5-8fe4-d827ae81511b"
      },
      "source": [
        "from sklearn.ensemble import RandomForestClassifier\n",
        "print('Model: Random Forest\\n')\n",
        "model(RandomForestClassifier(), X_train, X_test, y_train, y_test)"
      ],
      "execution_count": null,
      "outputs": [
        {
          "output_type": "stream",
          "text": [
            "Model: Random Forest\n",
            "\n",
            "Accuracy Score: 0.8855489066607013\n",
            "\n",
            "Confusion Matrix:\n",
            " [[20962  1416]\n",
            " [ 2677 10707]]\n"
          ],
          "name": "stdout"
        }
      ]
    },
    {
      "cell_type": "code",
      "metadata": {
        "colab": {
          "base_uri": "https://localhost:8080/",
          "height": 644
        },
        "id": "SntBqJN6rrD0",
        "outputId": "776da151-7b8f-47cd-e7b3-5080433a2352"
      },
      "source": [
        "ROC(y_test, y_prob)\n",
        "plt.title('ROC for random forest')"
      ],
      "execution_count": null,
      "outputs": [
        {
          "output_type": "execute_result",
          "data": {
            "text/plain": [
              "Text(0.5, 1.0, 'ROC for random forest')"
            ]
          },
          "metadata": {
            "tags": []
          },
          "execution_count": 81
        },
        {
          "output_type": "display_data",
          "data": {
            "image/png": "[encoded data removed]",
            "text/plain": [
              "<Figure size 720x720 with 1 Axes>"
            ]
          },
          "metadata": {
            "tags": []
          }
        }
      ]
    },
    {
      "cell_type": "markdown",
      "metadata": {
        "id": "UJjWXMQ5668e"
      },
      "source": [
        "### Feature Importances"
      ]
    },
    {
      "cell_type": "code",
      "metadata": {
        "colab": {
          "base_uri": "https://localhost:8080/",
          "height": 920
        },
        "id": "txxXwsth695o",
        "outputId": "f06f0bc2-5dfa-439e-ec78-42ba60f82440"
      },
      "source": [
        "randomf = RandomForestClassifier()\n",
        "rf_model1 = randomf.fit(X_train, y_train)\n",
        "\n",
        "pd.DataFrame(data = rf_model1.feature_importances_*100,\n",
        "                   columns = [\"Importances\"],\n",
        "                   index = X_train.columns).sort_values(\"Importances\", ascending = False)[:15].plot(kind = \"barh\", color = \"r\")\n",
        "\n",
        "plt.xlabel(\"Feature Importances (%)\")"
      ],
      "execution_count": null,
      "outputs": [
        {
          "output_type": "execute_result",
          "data": {
            "text/plain": [
              "Text(0.5, 0, 'Feature Importances (%)')"
            ]
          },
          "metadata": {
            "tags": []
          },
          "execution_count": 82
        },
        {
          "output_type": "display_data",
          "data": {
            "image/png": "[encoded data removed]",
            "text/plain": [
              "<Figure size 1440x1080 with 1 Axes>"
            ]
          },
          "metadata": {
            "tags": []
          }
        }
      ]
    },
    {
      "cell_type": "code",
      "metadata": {
        "id": "7ind8k2L7Byp"
      },
      "source": [
        ""
      ],
      "execution_count": null,
      "outputs": []
    }
  ]
}